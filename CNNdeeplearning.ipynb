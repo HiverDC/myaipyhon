{
 "cells": [
  {
   "cell_type": "code",
   "execution_count": 1,
   "metadata": {},
   "outputs": [],
   "source": [
    "#導入模組\n",
    "%matplotlib inline\n",
    "import numpy as np\n",
    "import matplotlib.pyplot as plt"
   ]
  },
  {
   "cell_type": "code",
   "execution_count": 2,
   "metadata": {},
   "outputs": [],
   "source": [
    "#資料輸入與觀察\n",
    "from tensorflow.keras.datasets import fashion_mnist"
   ]
  },
  {
   "cell_type": "code",
   "execution_count": 3,
   "metadata": {},
   "outputs": [],
   "source": [
    "(x_train, y_train), (x_test, y_test) = fashion_mnist.load_data()"
   ]
  },
  {
   "cell_type": "code",
   "execution_count": 4,
   "metadata": {},
   "outputs": [
    {
     "data": {
      "text/plain": [
       "(60000, 28, 28)"
      ]
     },
     "execution_count": 4,
     "metadata": {},
     "output_type": "execute_result"
    }
   ],
   "source": [
    "x_train.shape"
   ]
  },
  {
   "cell_type": "code",
   "execution_count": 5,
   "metadata": {},
   "outputs": [
    {
     "data": {
      "text/plain": [
       "(10000, 28, 28)"
      ]
     },
     "execution_count": 5,
     "metadata": {},
     "output_type": "execute_result"
    }
   ],
   "source": [
    "x_test.shape"
   ]
  },
  {
   "cell_type": "code",
   "execution_count": 6,
   "metadata": {},
   "outputs": [
    {
     "data": {
      "text/plain": [
       "(255, 255)"
      ]
     },
     "execution_count": 6,
     "metadata": {},
     "output_type": "execute_result"
    }
   ],
   "source": [
    "np.max(x_train[1]),np.max(x_test[1])"
   ]
  },
  {
   "cell_type": "code",
   "execution_count": 7,
   "metadata": {},
   "outputs": [],
   "source": [
    "class_names = ['T-shirt/top', 'Trouser', 'Pullover', 'Dress', 'Coat',\n",
    "               'Sandal', 'Shirt', 'Sneaker', 'Bag', 'Ankle boot']"
   ]
  },
  {
   "cell_type": "code",
   "execution_count": 8,
   "metadata": {},
   "outputs": [
    {
     "data": {
      "image/png": "[encoded data removed]",
      "text/plain": [
       "<Figure size 432x288 with 5 Axes>"
      ]
     },
     "metadata": {},
     "output_type": "display_data"
    }
   ],
   "source": [
    "#選五個資料觀看\n",
    "pick = np.random.choice(60000, 5, replace=False)\n",
    "\n",
    "for i in range(5):\n",
    "    n = pick[i]\n",
    "    ax = plt.subplot(151+i)\n",
    "    ax.set_xticks([])\n",
    "    ax.set_yticks([])\n",
    "    ax.set_title(class_names[y_train[n]], fontsize=10)\n",
    "    plt.imshow(x_train[n], cmap='Blues')"
   ]
  },
  {
   "cell_type": "code",
   "execution_count": 9,
   "metadata": {},
   "outputs": [],
   "source": [
    "#修改資料格式\n",
    "x_train=x_train.reshape(60000,28,28,1)/255\n",
    "x_test=x_test.reshape(10000,28,28,1)/255\n",
    "#將資料改成onehotencoding\n",
    "from tensorflow.keras.utils import to_categorical\n",
    "y_train = to_categorical(y_train, 10)\n",
    "y_test = to_categorical(y_test, 10)"
   ]
  },
  {
   "cell_type": "code",
   "execution_count": 10,
   "metadata": {},
   "outputs": [],
   "source": [
    "#輸入模組\n",
    "from tensorflow.keras.models import Sequential\n",
    "from tensorflow.keras.layers import Conv2D, MaxPooling2D\n",
    "from tensorflow.keras.layers import Dense, Flatten\n",
    "from tensorflow.keras.optimizers import SGD"
   ]
  },
  {
   "cell_type": "code",
   "execution_count": 11,
   "metadata": {},
   "outputs": [],
   "source": [
    "#打造CNN\n",
    "model = Sequential()"
   ]
  },
  {
   "cell_type": "code",
   "execution_count": 12,
   "metadata": {},
   "outputs": [],
   "source": [
    "##修改Conv2D裡的數量\n",
    "model.add(Conv2D(16, (3,3), padding='same', \n",
    "                 input_shape=(28,28,1), \n",
    "                 activation='relu'))\n",
    "model.add(MaxPooling2D(pool_size=(2,2)))\n",
    "model.add(Conv2D(32,(3,3), padding='same', activation='relu'))\n",
    "model.add(MaxPooling2D(pool_size=(2,2)))\n",
    "model.add(Conv2D(64, (3,3), padding='same', activation='relu'))\n",
    "model.add(MaxPooling2D(pool_size=(2,2)))\n",
    "model.add(Conv2D(128, (3,3), padding='same', activation='relu'))\n",
    "model.add(MaxPooling2D(pool_size=(2,2)))"
   ]
  },
  {
   "cell_type": "code",
   "execution_count": 13,
   "metadata": {},
   "outputs": [],
   "source": [
    "##修改神經元數量與層數\n",
    "model.add(Flatten())\n",
    "model.add(Dense(108,activation='relu'))\n",
    "model.add(Dense(211,activation='relu'))\n",
    "model.add(Dense(10,activation='softmax'))"
   ]
  },
  {
   "cell_type": "code",
   "execution_count": 14,
   "metadata": {},
   "outputs": [
    {
     "name": "stdout",
     "output_type": "stream",
     "text": [
      "Model: \"sequential\"\n",
      "_________________________________________________________________\n",
      "Layer (type)                 Output Shape              Param #   \n",
      "=================================================================\n",
      "conv2d (Conv2D)              (None, 28, 28, 16)        160       \n",
      "_________________________________________________________________\n",
      "max_pooling2d (MaxPooling2D) (None, 14, 14, 16)        0         \n",
      "_________________________________________________________________\n",
      "conv2d_1 (Conv2D)            (None, 14, 14, 32)        4640      \n",
      "_________________________________________________________________\n",
      "max_pooling2d_1 (MaxPooling2 (None, 7, 7, 32)          0         \n",
      "_________________________________________________________________\n",
      "conv2d_2 (Conv2D)            (None, 7, 7, 64)          18496     \n",
      "_________________________________________________________________\n",
      "max_pooling2d_2 (MaxPooling2 (None, 3, 3, 64)          0         \n",
      "_________________________________________________________________\n",
      "conv2d_3 (Conv2D)            (None, 3, 3, 128)         73856     \n",
      "_________________________________________________________________\n",
      "max_pooling2d_3 (MaxPooling2 (None, 1, 1, 128)         0         \n",
      "_________________________________________________________________\n",
      "flatten (Flatten)            (None, 128)               0         \n",
      "_________________________________________________________________\n",
      "dense (Dense)                (None, 108)               13932     \n",
      "_________________________________________________________________\n",
      "dense_1 (Dense)              (None, 211)               22999     \n",
      "_________________________________________________________________\n",
      "dense_2 (Dense)              (None, 10)                2120      \n",
      "=================================================================\n",
      "Total params: 136,203\n",
      "Trainable params: 136,203\n",
      "Non-trainable params: 0\n",
      "_________________________________________________________________\n"
     ]
    }
   ],
   "source": [
    "model.summary()"
   ]
  },
  {
   "cell_type": "code",
   "execution_count": 15,
   "metadata": {},
   "outputs": [],
   "source": [
    "##修改learning rate\n",
    "model.compile(loss='mse', optimizer=SGD(lr=0.87),metrics=['accuracy'])"
   ]
  },
  {
   "cell_type": "code",
   "execution_count": 16,
   "metadata": {},
   "outputs": [
    {
     "name": "stdout",
     "output_type": "stream",
     "text": [
      "Train on 60000 samples\n",
      "Epoch 1/10\n",
      "60000/60000 [==============================] - 40s 664us/sample - loss: 0.0552 - accuracy: 0.5386\n",
      "Epoch 2/10\n",
      "60000/60000 [==============================] - 41s 686us/sample - loss: 0.0254 - accuracy: 0.8217\n",
      "Epoch 3/10\n",
      "60000/60000 [==============================] - 41s 691us/sample - loss: 0.0206 - accuracy: 0.8558\n",
      "Epoch 4/10\n",
      "60000/60000 [==============================] - 41s 687us/sample - loss: 0.0182 - accuracy: 0.8740\n",
      "Epoch 5/10\n",
      "60000/60000 [==============================] - 41s 675us/sample - loss: 0.0166 - accuracy: 0.8859\n",
      "Epoch 6/10\n",
      "60000/60000 [==============================] - 41s 681us/sample - loss: 0.0155 - accuracy: 0.8946\n",
      "Epoch 7/10\n",
      "60000/60000 [==============================] - 41s 686us/sample - loss: 0.0146 - accuracy: 0.8999\n",
      "Epoch 8/10\n",
      "60000/60000 [==============================] - 42s 697us/sample - loss: 0.0139 - accuracy: 0.9049\n",
      "Epoch 9/10\n",
      "60000/60000 [==============================] - 39s 655us/sample - loss: 0.0133 - accuracy: 0.9097\n",
      "Epoch 10/10\n",
      "60000/60000 [==============================] - 43s 710us/sample - loss: 0.0127 - accuracy: 0.9124\n"
     ]
    },
    {
     "data": {
      "text/plain": [
       "<tensorflow.python.keras.callbacks.History at 0x1b276bcaf48>"
      ]
     },
     "execution_count": 16,
     "metadata": {},
     "output_type": "execute_result"
    }
   ],
   "source": [
    "##batch_size50個修正1次 epochs給他跑10次\n",
    "model.fit(x_train, y_train, batch_size=50, epochs=10)"
   ]
  },
  {
   "cell_type": "code",
   "execution_count": 17,
   "metadata": {},
   "outputs": [],
   "source": [
    "#平均都花了40s試試更改batch_size看能不能加快\n",
    "model = Sequential()\n",
    "model.add(Conv2D(16, (3,3), padding='same', \n",
    "                 input_shape=(28,28,1), \n",
    "                 activation='relu'))\n",
    "model.add(MaxPooling2D(pool_size=(2,2)))\n",
    "model.add(Conv2D(32,(3,3), padding='same', activation='relu'))\n",
    "model.add(MaxPooling2D(pool_size=(2,2)))\n",
    "model.add(Conv2D(64, (3,3), padding='same', activation='relu'))\n",
    "model.add(MaxPooling2D(pool_size=(2,2)))\n",
    "model.add(Conv2D(128, (3,3), padding='same', activation='relu'))\n",
    "model.add(MaxPooling2D(pool_size=(2,2)))"
   ]
  },
  {
   "cell_type": "code",
   "execution_count": 18,
   "metadata": {},
   "outputs": [],
   "source": [
    "model.add(Flatten())\n",
    "model.add(Dense(108,activation='relu'))\n",
    "model.add(Dense(211,activation='relu'))\n",
    "model.add(Dense(10,activation='softmax'))"
   ]
  },
  {
   "cell_type": "code",
   "execution_count": 19,
   "metadata": {},
   "outputs": [
    {
     "name": "stdout",
     "output_type": "stream",
     "text": [
      "Model: \"sequential_1\"\n",
      "_________________________________________________________________\n",
      "Layer (type)                 Output Shape              Param #   \n",
      "=================================================================\n",
      "conv2d_4 (Conv2D)            (None, 28, 28, 16)        160       \n",
      "_________________________________________________________________\n",
      "max_pooling2d_4 (MaxPooling2 (None, 14, 14, 16)        0         \n",
      "_________________________________________________________________\n",
      "conv2d_5 (Conv2D)            (None, 14, 14, 32)        4640      \n",
      "_________________________________________________________________\n",
      "max_pooling2d_5 (MaxPooling2 (None, 7, 7, 32)          0         \n",
      "_________________________________________________________________\n",
      "conv2d_6 (Conv2D)            (None, 7, 7, 64)          18496     \n",
      "_________________________________________________________________\n",
      "max_pooling2d_6 (MaxPooling2 (None, 3, 3, 64)          0         \n",
      "_________________________________________________________________\n",
      "conv2d_7 (Conv2D)            (None, 3, 3, 128)         73856     \n",
      "_________________________________________________________________\n",
      "max_pooling2d_7 (MaxPooling2 (None, 1, 1, 128)         0         \n",
      "_________________________________________________________________\n",
      "flatten_1 (Flatten)          (None, 128)               0         \n",
      "_________________________________________________________________\n",
      "dense_3 (Dense)              (None, 108)               13932     \n",
      "_________________________________________________________________\n",
      "dense_4 (Dense)              (None, 211)               22999     \n",
      "_________________________________________________________________\n",
      "dense_5 (Dense)              (None, 10)                2120      \n",
      "=================================================================\n",
      "Total params: 136,203\n",
      "Trainable params: 136,203\n",
      "Non-trainable params: 0\n",
      "_________________________________________________________________\n"
     ]
    }
   ],
   "source": [
    "model.summary()"
   ]
  },
  {
   "cell_type": "code",
   "execution_count": 20,
   "metadata": {},
   "outputs": [],
   "source": [
    "model.compile(loss='mse', optimizer=SGD(lr=0.87),metrics=['accuracy'])"
   ]
  },
  {
   "cell_type": "code",
   "execution_count": 21,
   "metadata": {},
   "outputs": [
    {
     "name": "stdout",
     "output_type": "stream",
     "text": [
      "Train on 60000 samples\n",
      "Epoch 1/10\n",
      "60000/60000 [==============================] - 34s 563us/sample - loss: 0.0898 - accuracy: 0.1163\n",
      "Epoch 2/10\n",
      "60000/60000 [==============================] - 31s 522us/sample - loss: 0.0882 - accuracy: 0.2603\n",
      "Epoch 3/10\n",
      "60000/60000 [==============================] - 28s 475us/sample - loss: 0.0678 - accuracy: 0.4488\n",
      "Epoch 4/10\n",
      "60000/60000 [==============================] - 28s 459us/sample - loss: 0.0494 - accuracy: 0.6205\n",
      "Epoch 5/10\n",
      "60000/60000 [==============================] - 29s 488us/sample - loss: 0.0398 - accuracy: 0.7042\n",
      "Epoch 6/10\n",
      "60000/60000 [==============================] - 31s 516us/sample - loss: 0.0358 - accuracy: 0.7366\n",
      "Epoch 7/10\n",
      "60000/60000 [==============================] - 33s 549us/sample - loss: 0.0325 - accuracy: 0.7642\n",
      "Epoch 8/10\n",
      "60000/60000 [==============================] - 30s 493us/sample - loss: 0.0300 - accuracy: 0.7845\n",
      "Epoch 9/10\n",
      "60000/60000 [==============================] - 31s 520us/sample - loss: 0.0278 - accuracy: 0.8022\n",
      "Epoch 10/10\n",
      "60000/60000 [==============================] - 32s 538us/sample - loss: 0.0257 - accuracy: 0.8195\n"
     ]
    },
    {
     "data": {
      "text/plain": [
       "<tensorflow.python.keras.callbacks.History at 0x1b216780a08>"
      ]
     },
     "execution_count": 21,
     "metadata": {},
     "output_type": "execute_result"
    }
   ],
   "source": [
    "##batch_size500個修正1次 epochs給他跑10次\n",
    "model.fit(x_train, y_train, batch_size=500, epochs=10)"
   ]
  },
  {
   "cell_type": "code",
   "execution_count": 22,
   "metadata": {},
   "outputs": [],
   "source": [
    "##速度有加快，但正確率下降，將batch_size再更改一次試試\n",
    "model = Sequential()\n",
    "model.add(Conv2D(16, (3,3), padding='same', \n",
    "                 input_shape=(28,28,1), \n",
    "                 activation='relu'))\n",
    "model.add(MaxPooling2D(pool_size=(2,2)))\n",
    "model.add(Conv2D(32,(3,3), padding='same', activation='relu'))\n",
    "model.add(MaxPooling2D(pool_size=(2,2)))\n",
    "model.add(Conv2D(64, (3,3), padding='same', activation='relu'))\n",
    "model.add(MaxPooling2D(pool_size=(2,2)))\n",
    "model.add(Conv2D(128, (3,3), padding='same', activation='relu'))\n",
    "model.add(MaxPooling2D(pool_size=(2,2)))"
   ]
  },
  {
   "cell_type": "code",
   "execution_count": 23,
   "metadata": {},
   "outputs": [],
   "source": [
    "model.add(Flatten())\n",
    "model.add(Dense(108,activation='relu'))\n",
    "model.add(Dense(211,activation='relu'))\n",
    "model.add(Dense(10,activation='softmax'))"
   ]
  },
  {
   "cell_type": "code",
   "execution_count": 24,
   "metadata": {},
   "outputs": [
    {
     "name": "stdout",
     "output_type": "stream",
     "text": [
      "Model: \"sequential_2\"\n",
      "_________________________________________________________________\n",
      "Layer (type)                 Output Shape              Param #   \n",
      "=================================================================\n",
      "conv2d_8 (Conv2D)            (None, 28, 28, 16)        160       \n",
      "_________________________________________________________________\n",
      "max_pooling2d_8 (MaxPooling2 (None, 14, 14, 16)        0         \n",
      "_________________________________________________________________\n",
      "conv2d_9 (Conv2D)            (None, 14, 14, 32)        4640      \n",
      "_________________________________________________________________\n",
      "max_pooling2d_9 (MaxPooling2 (None, 7, 7, 32)          0         \n",
      "_________________________________________________________________\n",
      "conv2d_10 (Conv2D)           (None, 7, 7, 64)          18496     \n",
      "_________________________________________________________________\n",
      "max_pooling2d_10 (MaxPooling (None, 3, 3, 64)          0         \n",
      "_________________________________________________________________\n",
      "conv2d_11 (Conv2D)           (None, 3, 3, 128)         73856     \n",
      "_________________________________________________________________\n",
      "max_pooling2d_11 (MaxPooling (None, 1, 1, 128)         0         \n",
      "_________________________________________________________________\n",
      "flatten_2 (Flatten)          (None, 128)               0         \n",
      "_________________________________________________________________\n",
      "dense_6 (Dense)              (None, 108)               13932     \n",
      "_________________________________________________________________\n",
      "dense_7 (Dense)              (None, 211)               22999     \n",
      "_________________________________________________________________\n",
      "dense_8 (Dense)              (None, 10)                2120      \n",
      "=================================================================\n",
      "Total params: 136,203\n",
      "Trainable params: 136,203\n",
      "Non-trainable params: 0\n",
      "_________________________________________________________________\n"
     ]
    }
   ],
   "source": [
    "model.summary()"
   ]
  },
  {
   "cell_type": "code",
   "execution_count": 25,
   "metadata": {},
   "outputs": [],
   "source": [
    "model.compile(loss='mse', optimizer=SGD(lr=0.87),metrics=['accuracy'])"
   ]
  },
  {
   "cell_type": "code",
   "execution_count": 26,
   "metadata": {},
   "outputs": [
    {
     "name": "stdout",
     "output_type": "stream",
     "text": [
      "Train on 60000 samples\n",
      "Epoch 1/10\n",
      "60000/60000 [==============================] - 30s 507us/sample - loss: 0.0900 - accuracy: 0.0883\n",
      "Epoch 2/10\n",
      "60000/60000 [==============================] - 26s 430us/sample - loss: 0.0899 - accuracy: 0.1262\n",
      "Epoch 3/10\n",
      "60000/60000 [==============================] - 28s 462us/sample - loss: 0.0899 - accuracy: 0.1868\n",
      "Epoch 4/10\n",
      "60000/60000 [==============================] - 30s 501us/sample - loss: 0.0898 - accuracy: 0.2140\n",
      "Epoch 5/10\n",
      "60000/60000 [==============================] - 29s 484us/sample - loss: 0.0897 - accuracy: 0.2292\n",
      "Epoch 6/10\n",
      "60000/60000 [==============================] - 25s 422us/sample - loss: 0.0896 - accuracy: 0.3024\n",
      "Epoch 7/10\n",
      "60000/60000 [==============================] - 26s 437us/sample - loss: 0.0896 - accuracy: 0.3493\n",
      "Epoch 8/10\n",
      "60000/60000 [==============================] - 30s 496us/sample - loss: 0.0894 - accuracy: 0.3675\n",
      "Epoch 9/10\n",
      "60000/60000 [==============================] - 30s 501us/sample - loss: 0.0893 - accuracy: 0.3672\n",
      "Epoch 10/10\n",
      "60000/60000 [==============================] - 26s 429us/sample - loss: 0.0892 - accuracy: 0.3649\n"
     ]
    },
    {
     "data": {
      "text/plain": [
       "<tensorflow.python.keras.callbacks.History at 0x1b2168f6988>"
      ]
     },
     "execution_count": 26,
     "metadata": {},
     "output_type": "execute_result"
    }
   ],
   "source": [
    "##batch_size5000個修正1次 epochs給他跑10次\n",
    "model.fit(x_train, y_train, batch_size=5000, epochs=10)"
   ]
  },
  {
   "cell_type": "code",
   "execution_count": 27,
   "metadata": {},
   "outputs": [],
   "source": [
    "##發現batch_size上升到某一程度速度就上不去喏，然而正確率卻下降。想找一個速度快一些，但正確率不那麼低的。\n",
    "model = Sequential()\n",
    "model.add(Conv2D(16, (3,3), padding='same', \n",
    "                 input_shape=(28,28,1), \n",
    "                 activation='relu'))\n",
    "model.add(MaxPooling2D(pool_size=(2,2)))\n",
    "model.add(Conv2D(32,(3,3), padding='same', activation='relu'))\n",
    "model.add(MaxPooling2D(pool_size=(2,2)))\n",
    "model.add(Conv2D(64, (3,3), padding='same', activation='relu'))\n",
    "model.add(MaxPooling2D(pool_size=(2,2)))\n",
    "model.add(Conv2D(128, (3,3), padding='same', activation='relu'))\n",
    "model.add(MaxPooling2D(pool_size=(2,2)))"
   ]
  },
  {
   "cell_type": "code",
   "execution_count": 28,
   "metadata": {},
   "outputs": [],
   "source": [
    "model.add(Flatten())\n",
    "model.add(Dense(108,activation='relu'))\n",
    "model.add(Dense(211,activation='relu'))\n",
    "model.add(Dense(10,activation='softmax'))"
   ]
  },
  {
   "cell_type": "code",
   "execution_count": 29,
   "metadata": {},
   "outputs": [
    {
     "name": "stdout",
     "output_type": "stream",
     "text": [
      "Model: \"sequential_3\"\n",
      "_________________________________________________________________\n",
      "Layer (type)                 Output Shape              Param #   \n",
      "=================================================================\n",
      "conv2d_12 (Conv2D)           (None, 28, 28, 16)        160       \n",
      "_________________________________________________________________\n",
      "max_pooling2d_12 (MaxPooling (None, 14, 14, 16)        0         \n",
      "_________________________________________________________________\n",
      "conv2d_13 (Conv2D)           (None, 14, 14, 32)        4640      \n",
      "_________________________________________________________________\n",
      "max_pooling2d_13 (MaxPooling (None, 7, 7, 32)          0         \n",
      "_________________________________________________________________\n",
      "conv2d_14 (Conv2D)           (None, 7, 7, 64)          18496     \n",
      "_________________________________________________________________\n",
      "max_pooling2d_14 (MaxPooling (None, 3, 3, 64)          0         \n",
      "_________________________________________________________________\n",
      "conv2d_15 (Conv2D)           (None, 3, 3, 128)         73856     \n",
      "_________________________________________________________________\n",
      "max_pooling2d_15 (MaxPooling (None, 1, 1, 128)         0         \n",
      "_________________________________________________________________\n",
      "flatten_3 (Flatten)          (None, 128)               0         \n",
      "_________________________________________________________________\n",
      "dense_9 (Dense)              (None, 108)               13932     \n",
      "_________________________________________________________________\n",
      "dense_10 (Dense)             (None, 211)               22999     \n",
      "_________________________________________________________________\n",
      "dense_11 (Dense)             (None, 10)                2120      \n",
      "=================================================================\n",
      "Total params: 136,203\n",
      "Trainable params: 136,203\n",
      "Non-trainable params: 0\n",
      "_________________________________________________________________\n"
     ]
    }
   ],
   "source": [
    "model.summary()"
   ]
  },
  {
   "cell_type": "code",
   "execution_count": 30,
   "metadata": {},
   "outputs": [],
   "source": [
    "model.compile(loss='mse', optimizer=SGD(lr=0.87),metrics=['accuracy'])"
   ]
  },
  {
   "cell_type": "code",
   "execution_count": 31,
   "metadata": {},
   "outputs": [
    {
     "name": "stdout",
     "output_type": "stream",
     "text": [
      "Train on 60000 samples\n",
      "Epoch 1/10\n",
      "60000/60000 [==============================] - 35s 586us/sample - loss: 0.0787 - accuracy: 0.3286\n",
      "Epoch 2/10\n",
      "60000/60000 [==============================] - 36s 602us/sample - loss: 0.0431 - accuracy: 0.6778\n",
      "Epoch 3/10\n",
      "60000/60000 [==============================] - 36s 602us/sample - loss: 0.0336 - accuracy: 0.7570\n",
      "Epoch 4/10\n",
      "60000/60000 [==============================] - 35s 591us/sample - loss: 0.0286 - accuracy: 0.7963\n",
      "Epoch 5/10\n",
      "60000/60000 [==============================] - 34s 567us/sample - loss: 0.0251 - accuracy: 0.8231\n",
      "Epoch 6/10\n",
      "60000/60000 [==============================] - 33s 552us/sample - loss: 0.0227 - accuracy: 0.8415\n",
      "Epoch 7/10\n",
      "60000/60000 [==============================] - 36s 599us/sample - loss: 0.0210 - accuracy: 0.8527\n",
      "Epoch 8/10\n",
      "60000/60000 [==============================] - 36s 603us/sample - loss: 0.0198 - accuracy: 0.8620\n",
      "Epoch 9/10\n",
      "60000/60000 [==============================] - 36s 608us/sample - loss: 0.0188 - accuracy: 0.8692\n",
      "Epoch 10/10\n",
      "60000/60000 [==============================] - 34s 571us/sample - loss: 0.0180 - accuracy: 0.8765\n"
     ]
    },
    {
     "data": {
      "text/plain": [
       "<tensorflow.python.keras.callbacks.History at 0x1b26c23e708>"
      ]
     },
     "execution_count": 31,
     "metadata": {},
     "output_type": "execute_result"
    }
   ],
   "source": [
    "##batch_size200個修正1次 epochs給他跑10次\n",
    "model.fit(x_train, y_train, batch_size=200, epochs=10)"
   ]
  },
  {
   "cell_type": "code",
   "execution_count": 32,
   "metadata": {},
   "outputs": [],
   "source": [
    "##這次不管是秒數或是正確率都介於中間，就用他吧!\n",
    "#預測\n",
    "result = model.predict_classes(x_test)"
   ]
  },
  {
   "cell_type": "code",
   "execution_count": 33,
   "metadata": {},
   "outputs": [],
   "source": [
    "def my_predict(n):\n",
    "  print ('My prediction is', class_names[result[n]])\n",
    "  x = x_test[n].reshape(28,28)\n",
    "  plt.imshow(x, cmap='Blues')"
   ]
  },
  {
   "cell_type": "code",
   "execution_count": 35,
   "metadata": {},
   "outputs": [
    {
     "name": "stdout",
     "output_type": "stream",
     "text": [
      "My prediction is Dress\n"
     ]
    },
    {
     "data": {
      "image/png": "[encoded data removed]",
      "text/plain": [
       "<Figure size 432x288 with 1 Axes>"
      ]
     },
     "metadata": {
      "needs_background": "light"
     },
     "output_type": "display_data"
    }
   ],
   "source": [
    "my_predict(9211)"
   ]
  },
  {
   "cell_type": "code",
   "execution_count": 37,
   "metadata": {},
   "outputs": [
    {
     "data": {
      "application/vnd.jupyter.widget-view+json": {
       "model_id": "fc4f636755664a949f6ec12aa3692f37",
       "version_major": 2,
       "version_minor": 0
      },
      "text/plain": [
       "interactive(children=(IntSlider(value=4999, description='n', max=9999), Button(description='Run Interact', sty…"
      ]
     },
     "metadata": {},
     "output_type": "display_data"
    },
    {
     "data": {
      "text/plain": [
       "<function __main__.my_predict(n)>"
      ]
     },
     "execution_count": 37,
     "metadata": {},
     "output_type": "execute_result"
    }
   ],
   "source": [
    "from ipywidgets import interact_manual\n",
    "interact_manual(my_predict,n=(0,9999))"
   ]
  },
  {
   "cell_type": "code",
   "execution_count": 38,
   "metadata": {},
   "outputs": [
    {
     "name": "stdout",
     "output_type": "stream",
     "text": [
      "10000/10000 [==============================] - 2s 193us/sample - loss: 0.0199 - accuracy: 0.8619\n"
     ]
    }
   ],
   "source": [
    "score = model.evaluate(x_test, y_test)"
   ]
  },
  {
   "cell_type": "code",
   "execution_count": 39,
   "metadata": {},
   "outputs": [],
   "source": [
    "loss, acc = score"
   ]
  },
  {
   "cell_type": "code",
   "execution_count": 40,
   "metadata": {},
   "outputs": [
    {
     "name": "stdout",
     "output_type": "stream",
     "text": [
      "測試資料的正確率為 0.8619\n"
     ]
    }
   ],
   "source": [
    "print('測試資料的正確率為', acc)"
   ]
  },
  {
   "cell_type": "code",
   "execution_count": 41,
   "metadata": {},
   "outputs": [],
   "source": [
    "model.save('myCNNmodel.h5')"
   ]
  },
  {
   "cell_type": "code",
   "execution_count": null,
   "metadata": {},
   "outputs": [],
   "source": []
  }
 ],
 "metadata": {
  "kernelspec": {
   "display_name": "Python 3",
   "language": "python",
   "name": "python3"
  },
  "language_info": {
   "codemirror_mode": {
    "name": "ipython",
    "version": 3
   },
   "file_extension": ".py",
   "mimetype": "text/x-python",
   "name": "python",
   "nbconvert_exporter": "python",
   "pygments_lexer": "ipython3",
   "version": "3.7.4"
  }
 },
 "nbformat": 4,
 "nbformat_minor": 2
}
