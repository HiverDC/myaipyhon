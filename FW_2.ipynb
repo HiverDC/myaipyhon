{
 "cells": [
  {
   "cell_type": "code",
   "execution_count": 1,
   "metadata": {},
   "outputs": [],
   "source": [
    "%matplotlib inline\n",
    "\n",
    "import numpy as np\n",
    "import matplotlib.pyplot as plt\n",
    "import pandas as pd\n",
    "\n",
    "# Layers for FNN\n",
    "from tensorflow.keras.models import Sequential\n",
    "from tensorflow.keras.layers import Dense\n",
    "from tensorflow.keras.layers import Flatten\n",
    "\n",
    "# Layers for CNN\n",
    "from tensorflow.keras.layers import Conv2D, MaxPool2D, GlobalAveragePooling2D\n",
    "from tensorflow.keras.optimizers import SGD, Adam\n",
    "\n",
    "# For data preprocessing\n",
    "from tensorflow.keras.datasets import fashion_mnist\n",
    "from tensorflow.keras import datasets\n",
    "from tensorflow.keras.utils import to_categorical"
   ]
  },
  {
   "cell_type": "code",
   "execution_count": 2,
   "metadata": {},
   "outputs": [],
   "source": [
    "#導入fashion mnist資料集\n",
    "class_names = ['T-shirt/top', 'Trouser', 'Pullover', 'Dress', 'Coat', 'Sandal', 'Shirt', 'Sneaker', 'Bag', 'Ankle boot']\n",
    "(x_train, y_train), (x_test, y_test) = fashion_mnist.load_data()"
   ]
  },
  {
   "cell_type": "code",
   "execution_count": 3,
   "metadata": {},
   "outputs": [
    {
     "data": {
      "text/plain": [
       "(60000, 28, 28)"
      ]
     },
     "execution_count": 3,
     "metadata": {},
     "output_type": "execute_result"
    }
   ],
   "source": [
    "x_train.shape"
   ]
  },
  {
   "cell_type": "code",
   "execution_count": 4,
   "metadata": {},
   "outputs": [
    {
     "data": {
      "text/plain": [
       "(10000, 28, 28)"
      ]
     },
     "execution_count": 4,
     "metadata": {},
     "output_type": "execute_result"
    }
   ],
   "source": [
    "x_test.shape"
   ]
  },
  {
   "cell_type": "code",
   "execution_count": 5,
   "metadata": {},
   "outputs": [
    {
     "data": {
      "text/plain": [
       "(255, 255)"
      ]
     },
     "execution_count": 5,
     "metadata": {},
     "output_type": "execute_result"
    }
   ],
   "source": [
    "np.max(x_train[1]),np.max(x_test[1])"
   ]
  },
  {
   "cell_type": "code",
   "execution_count": 6,
   "metadata": {},
   "outputs": [],
   "source": [
    "#修改資料格式\n",
    "x_train=x_train.reshape(60000,28,28,1)/255\n",
    "x_test=x_test.reshape(10000,28,28,1)/255\n",
    "#將資料改成onehotencoding\n",
    "from tensorflow.keras.utils import to_categorical\n",
    "y_train = to_categorical(y_train, 10)\n",
    "y_test = to_categorical(y_test, 10)"
   ]
  },
  {
   "cell_type": "code",
   "execution_count": 7,
   "metadata": {},
   "outputs": [],
   "source": [
    "#打造CNN\n",
    "model = Sequential()"
   ]
  },
  {
   "cell_type": "code",
   "execution_count": 8,
   "metadata": {},
   "outputs": [],
   "source": [
    "CNN_layers = [Conv2D(16, (3, 3), input_shape=(28, 28, 1), padding='same', activation='relu', name='Conv_1'),\n",
    "              MaxPool2D(),\n",
    "              Conv2D(32, (3, 3), padding='same', activation='relu', name='Conv_2'),\n",
    "              MaxPool2D(),\n",
    "              Conv2D(64, (3, 3), padding='same', activation='relu', name='Conv_3'),\n",
    "              GlobalAveragePooling2D()]\n",
    "FC_layers = [Dense(units=256, activation='relu'),\n",
    "             Dense(units=10, activation='softmax')]"
   ]
  },
  {
   "cell_type": "code",
   "execution_count": 9,
   "metadata": {},
   "outputs": [
    {
     "data": {
      "text/plain": [
       "[<tensorflow.python.keras.layers.convolutional.Conv2D at 0x1c6795eab48>,\n",
       " <tensorflow.python.keras.layers.pooling.MaxPooling2D at 0x1c6731ef408>,\n",
       " <tensorflow.python.keras.layers.convolutional.Conv2D at 0x1c6796013c8>,\n",
       " <tensorflow.python.keras.layers.pooling.MaxPooling2D at 0x1c679601908>,\n",
       " <tensorflow.python.keras.layers.convolutional.Conv2D at 0x1c679601dc8>,\n",
       " <tensorflow.python.keras.layers.pooling.GlobalAveragePooling2D at 0x1c679605388>,\n",
       " <tensorflow.python.keras.layers.core.Dense at 0x1c6795eab08>,\n",
       " <tensorflow.python.keras.layers.core.Dense at 0x1c679605d88>]"
      ]
     },
     "execution_count": 9,
     "metadata": {},
     "output_type": "execute_result"
    }
   ],
   "source": [
    "CNN_layers + FC_layers"
   ]
  },
  {
   "cell_type": "code",
   "execution_count": 10,
   "metadata": {},
   "outputs": [],
   "source": [
    "model = Sequential(CNN_layers+FC_layers)"
   ]
  },
  {
   "cell_type": "code",
   "execution_count": 11,
   "metadata": {},
   "outputs": [
    {
     "name": "stdout",
     "output_type": "stream",
     "text": [
      "Model: \"sequential_1\"\n",
      "_________________________________________________________________\n",
      "Layer (type)                 Output Shape              Param #   \n",
      "=================================================================\n",
      "Conv_1 (Conv2D)              (None, 28, 28, 16)        160       \n",
      "_________________________________________________________________\n",
      "max_pooling2d (MaxPooling2D) (None, 14, 14, 16)        0         \n",
      "_________________________________________________________________\n",
      "Conv_2 (Conv2D)              (None, 14, 14, 32)        4640      \n",
      "_________________________________________________________________\n",
      "max_pooling2d_1 (MaxPooling2 (None, 7, 7, 32)          0         \n",
      "_________________________________________________________________\n",
      "Conv_3 (Conv2D)              (None, 7, 7, 64)          18496     \n",
      "_________________________________________________________________\n",
      "global_average_pooling2d (Gl (None, 64)                0         \n",
      "_________________________________________________________________\n",
      "dense (Dense)                (None, 256)               16640     \n",
      "_________________________________________________________________\n",
      "dense_1 (Dense)              (None, 10)                2570      \n",
      "=================================================================\n",
      "Total params: 42,506\n",
      "Trainable params: 42,506\n",
      "Non-trainable params: 0\n",
      "_________________________________________________________________\n"
     ]
    }
   ],
   "source": [
    "model.summary()"
   ]
  },
  {
   "cell_type": "code",
   "execution_count": 12,
   "metadata": {},
   "outputs": [],
   "source": [
    "model.compile(loss='categorical_crossentropy', \n",
    "                optimizer=Adam(),\n",
    "                metrics=['categorical_accuracy'])\n"
   ]
  },
  {
   "cell_type": "code",
   "execution_count": 13,
   "metadata": {},
   "outputs": [
    {
     "name": "stdout",
     "output_type": "stream",
     "text": [
      "Train on 60000 samples, validate on 10000 samples\n",
      "Epoch 1/10\n",
      "60000/60000 [==============================] - 41s 690us/sample - loss: 1.1140 - categorical_accuracy: 0.5905 - val_loss: 0.7921 - val_categorical_accuracy: 0.7148\n",
      "Epoch 2/10\n",
      "60000/60000 [==============================] - 44s 738us/sample - loss: 0.7214 - categorical_accuracy: 0.7320 - val_loss: 0.7026 - val_categorical_accuracy: 0.7361\n",
      "Epoch 3/10\n",
      "60000/60000 [==============================] - 44s 737us/sample - loss: 0.6560 - categorical_accuracy: 0.7556 - val_loss: 0.6413 - val_categorical_accuracy: 0.7594\n",
      "Epoch 4/10\n",
      "60000/60000 [==============================] - 40s 661us/sample - loss: 0.6047 - categorical_accuracy: 0.7750 - val_loss: 0.6183 - val_categorical_accuracy: 0.7730\n",
      "Epoch 5/10\n",
      "60000/60000 [==============================] - 39s 656us/sample - loss: 0.5518 - categorical_accuracy: 0.7963 - val_loss: 0.5492 - val_categorical_accuracy: 0.7946\n",
      "Epoch 6/10\n",
      "60000/60000 [==============================] - 40s 666us/sample - loss: 0.5186 - categorical_accuracy: 0.8111 - val_loss: 0.5279 - val_categorical_accuracy: 0.8077\n",
      "Epoch 7/10\n",
      "60000/60000 [==============================] - 42s 695us/sample - loss: 0.4870 - categorical_accuracy: 0.8233 - val_loss: 0.5454 - val_categorical_accuracy: 0.7936\n",
      "Epoch 8/10\n",
      "60000/60000 [==============================] - 37s 614us/sample - loss: 0.4666 - categorical_accuracy: 0.8308 - val_loss: 0.4653 - val_categorical_accuracy: 0.8283\n",
      "Epoch 9/10\n",
      "60000/60000 [==============================] - 43s 717us/sample - loss: 0.4435 - categorical_accuracy: 0.8397 - val_loss: 0.4601 - val_categorical_accuracy: 0.8374\n",
      "Epoch 10/10\n",
      "60000/60000 [==============================] - 48s 792us/sample - loss: 0.4287 - categorical_accuracy: 0.8456 - val_loss: 0.5110 - val_categorical_accuracy: 0.8115\n"
     ]
    },
    {
     "data": {
      "text/plain": [
       "<tensorflow.python.keras.callbacks.History at 0x1c67652afc8>"
      ]
     },
     "execution_count": 13,
     "metadata": {},
     "output_type": "execute_result"
    }
   ],
   "source": [
    "model.fit(x_train, y_train, batch_size=200, epochs=10,validation_data=(x_test, y_test))"
   ]
  },
  {
   "cell_type": "code",
   "execution_count": 14,
   "metadata": {},
   "outputs": [
    {
     "name": "stdout",
     "output_type": "stream",
     "text": [
      "60000/60000 [==============================] - 15s 245us/sample - loss: 0.4743 - categorical_accuracy: 0.8226\n",
      "10000/10000 [==============================] - 3s 281us/sample - loss: 0.5110 - categorical_accuracy: 0.8115\n",
      "Train Acc: 82.25833177566528\n",
      "Test Acc: 81.15000128746033\n"
     ]
    }
   ],
   "source": [
    "score_train = model.evaluate(x_train, y_train)\n",
    "score_test = model.evaluate(x_test, y_test)\n",
    "\n",
    "print(f'Train Acc: {score_train[1]*100}')\n",
    "print(f'Test Acc: {score_test[1]*100}')"
   ]
  },
  {
   "cell_type": "code",
   "execution_count": 15,
   "metadata": {},
   "outputs": [],
   "source": [
    "model.save_weights('fashion.h5')"
   ]
  },
  {
   "cell_type": "code",
   "execution_count": 16,
   "metadata": {},
   "outputs": [],
   "source": [
    "#用CIFAR10資料集\n",
    "name_list = ['airplane', 'automobile', 'bird', 'cat', 'deer', 'dog', 'frog', 'horse', 'ship', 'truck']\n",
    "(x_train2, y_train2), (x_test2, y_test2) = datasets.cifar10.load_data()"
   ]
  },
  {
   "cell_type": "code",
   "execution_count": 17,
   "metadata": {},
   "outputs": [],
   "source": [
    "# Normalize the range of featurs\n",
    "x_train2 = x_train2 / x_train2.max()\n",
    "x_test2 = x_test2 / x_test2.max()\n",
    "# One-hot encoding\n",
    "y_train2 = to_categorical(y_train2, 10)\n",
    "y_test2 = to_categorical(y_test2, 10)"
   ]
  },
  {
   "cell_type": "code",
   "execution_count": 18,
   "metadata": {},
   "outputs": [
    {
     "data": {
      "image/png": "[encoded data removed]",
      "text/plain": [
       "<Figure size 432x288 with 1 Axes>"
      ]
     },
     "metadata": {
      "needs_background": "light"
     },
     "output_type": "display_data"
    }
   ],
   "source": [
    "idx = np.random.randint(x_train2.shape[0])\n",
    "x_sample = x_train2[idx]\n",
    "y_sample = y_train2[idx].squeeze()\n",
    "\n",
    "plt.imshow(x_sample)\n",
    "plt.axis('off');"
   ]
  },
  {
   "cell_type": "code",
   "execution_count": 19,
   "metadata": {},
   "outputs": [],
   "source": [
    "CNN_layers2 = [Conv2D(32, (3, 3), input_shape=(32, 32, 3), padding='same', activation='relu', name='Conv_1'),\n",
    "              MaxPool2D(),\n",
    "              Conv2D(128, (3, 3), padding='same', activation='relu', name='Conv_2'),\n",
    "              MaxPool2D(),\n",
    "              Conv2D(512, (3, 3), padding='same', activation='relu', name='Conv_3'),\n",
    "              GlobalAveragePooling2D()]\n",
    "\n",
    "FC_layers2 = [Dense(units=256, activation='relu'),\n",
    "             Dense(units=10, activation='softmax')]"
   ]
  },
  {
   "cell_type": "code",
   "execution_count": 20,
   "metadata": {},
   "outputs": [
    {
     "name": "stdout",
     "output_type": "stream",
     "text": [
      "Model: \"sequential_2\"\n",
      "_________________________________________________________________\n",
      "Layer (type)                 Output Shape              Param #   \n",
      "=================================================================\n",
      "Conv_1 (Conv2D)              (None, 32, 32, 32)        896       \n",
      "_________________________________________________________________\n",
      "max_pooling2d_2 (MaxPooling2 (None, 16, 16, 32)        0         \n",
      "_________________________________________________________________\n",
      "Conv_2 (Conv2D)              (None, 16, 16, 128)       36992     \n",
      "_________________________________________________________________\n",
      "max_pooling2d_3 (MaxPooling2 (None, 8, 8, 128)         0         \n",
      "_________________________________________________________________\n",
      "Conv_3 (Conv2D)              (None, 8, 8, 512)         590336    \n",
      "_________________________________________________________________\n",
      "global_average_pooling2d_1 ( (None, 512)               0         \n",
      "_________________________________________________________________\n",
      "dense_2 (Dense)              (None, 256)               131328    \n",
      "_________________________________________________________________\n",
      "dense_3 (Dense)              (None, 10)                2570      \n",
      "=================================================================\n",
      "Total params: 762,122\n",
      "Trainable params: 762,122\n",
      "Non-trainable params: 0\n",
      "_________________________________________________________________\n"
     ]
    }
   ],
   "source": [
    "model2 = Sequential(CNN_layers2+FC_layers2)\n",
    "model2.summary()"
   ]
  },
  {
   "cell_type": "code",
   "execution_count": 21,
   "metadata": {},
   "outputs": [],
   "source": [
    "model2.compile(loss='categorical_crossentropy', \n",
    "               optimizer=Adam(), \n",
    "               metrics=['categorical_accuracy'])"
   ]
  },
  {
   "cell_type": "code",
   "execution_count": 22,
   "metadata": {},
   "outputs": [
    {
     "name": "stdout",
     "output_type": "stream",
     "text": [
      "Train on 50000 samples, validate on 10000 samples\n",
      "Epoch 1/10\n",
      "50000/50000 [==============================] - 332s 7ms/sample - loss: 1.8331 - categorical_accuracy: 0.3041 - val_loss: 1.6174 - val_categorical_accuracy: 0.4041\n",
      "Epoch 2/10\n",
      "50000/50000 [==============================] - 322s 6ms/sample - loss: 1.5558 - categorical_accuracy: 0.4239 - val_loss: 1.4349 - val_categorical_accuracy: 0.4760\n",
      "Epoch 3/10\n",
      "50000/50000 [==============================] - 321s 6ms/sample - loss: 1.3912 - categorical_accuracy: 0.4893 - val_loss: 1.3019 - val_categorical_accuracy: 0.5305\n",
      "Epoch 4/10\n",
      "50000/50000 [==============================] - 324s 6ms/sample - loss: 1.2792 - categorical_accuracy: 0.5350 - val_loss: 1.2006 - val_categorical_accuracy: 0.5662\n",
      "Epoch 5/10\n",
      "50000/50000 [==============================] - 329s 7ms/sample - loss: 1.1791 - categorical_accuracy: 0.5747 - val_loss: 1.1974 - val_categorical_accuracy: 0.5746\n",
      "Epoch 6/10\n",
      "50000/50000 [==============================] - 334s 7ms/sample - loss: 1.1272 - categorical_accuracy: 0.5970 - val_loss: 1.0522 - val_categorical_accuracy: 0.6255\n",
      "Epoch 7/10\n",
      "50000/50000 [==============================] - 332s 7ms/sample - loss: 1.0513 - categorical_accuracy: 0.6252 - val_loss: 1.0630 - val_categorical_accuracy: 0.6212\n",
      "Epoch 8/10\n",
      "50000/50000 [==============================] - 378s 8ms/sample - loss: 1.0080 - categorical_accuracy: 0.6410 - val_loss: 0.9809 - val_categorical_accuracy: 0.6505\n",
      "Epoch 9/10\n",
      "50000/50000 [==============================] - 325s 6ms/sample - loss: 0.9581 - categorical_accuracy: 0.6585 - val_loss: 0.9568 - val_categorical_accuracy: 0.6645\n",
      "Epoch 10/10\n",
      "50000/50000 [==============================] - 328s 7ms/sample - loss: 0.9247 - categorical_accuracy: 0.6725 - val_loss: 0.9362 - val_categorical_accuracy: 0.6612\n"
     ]
    },
    {
     "data": {
      "text/plain": [
       "<tensorflow.python.keras.callbacks.History at 0x1c616c48488>"
      ]
     },
     "execution_count": 22,
     "metadata": {},
     "output_type": "execute_result"
    }
   ],
   "source": [
    "model2.fit(x_train2, y_train2, batch_size=200, epochs=10,validation_data=(x_test2, y_test2))"
   ]
  },
  {
   "cell_type": "code",
   "execution_count": 24,
   "metadata": {},
   "outputs": [
    {
     "name": "stdout",
     "output_type": "stream",
     "text": [
      "50000/50000 [==============================] - 67s 1ms/sample - loss: 0.8967 - categorical_accuracy: 0.6817\n",
      "10000/10000 [==============================] - 13s 1ms/sample - loss: 0.9362 - categorical_accuracy: 0.6612\n",
      "Train Acc: 68.16999912261963\n",
      "Test Acc: 66.11999869346619\n"
     ]
    }
   ],
   "source": [
    "score_train = model2.evaluate(x_train2, y_train2)\n",
    "score_test = model2.evaluate(x_test2, y_test2)\n",
    "\n",
    "print(f'Train Acc: {score_train[1]*100}')\n",
    "print(f'Test Acc: {score_test[1]*100}')"
   ]
  },
  {
   "cell_type": "code",
   "execution_count": null,
   "metadata": {},
   "outputs": [],
   "source": []
  }
 ],
 "metadata": {
  "kernelspec": {
   "display_name": "Python 3",
   "language": "python",
   "name": "python3"
  },
  "language_info": {
   "codemirror_mode": {
    "name": "ipython",
    "version": 3
   },
   "file_extension": ".py",
   "mimetype": "text/x-python",
   "name": "python",
   "nbconvert_exporter": "python",
   "pygments_lexer": "ipython3",
   "version": "3.7.4"
  }
 },
 "nbformat": 4,
 "nbformat_minor": 2
}
