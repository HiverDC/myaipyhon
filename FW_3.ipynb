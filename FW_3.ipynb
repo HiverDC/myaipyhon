{
 "cells": [
  {
   "cell_type": "markdown",
   "metadata": {},
   "source": [
    "# 導入套件"
   ]
  },
  {
   "cell_type": "code",
   "execution_count": 1,
   "metadata": {},
   "outputs": [],
   "source": [
    "import matplotlib.pyplot as plt\n",
    "import numpy as np\n",
    "\n",
    "from tensorflow.keras.models import Sequential\n",
    "from tensorflow.keras.layers import Dense\n",
    "from tensorflow.keras.layers import Flatten\n",
    "from tensorflow.keras.layers import Conv2D, MaxPool2D, GlobalAveragePooling2D\n",
    "from tensorflow.keras.optimizers import SGD, Adam\n",
    "from tensorflow.keras import datasets\n",
    "from tensorflow.keras.utils import to_categorical\n",
    "from tensorflow.keras.models import Model\n",
    "from tensorflow.keras.layers import Input\n",
    "from tensorflow.keras.layers import concatenate, add"
   ]
  },
  {
   "cell_type": "code",
   "execution_count": 10,
   "metadata": {},
   "outputs": [],
   "source": [
    "f_1 = Dense(611, activation='relu')\n",
    "f_2 = Dense(520, activation='relu')\n",
    "f_4 = Dense(211, activation='relu')\n",
    "f_3 = Dense(111, activation='sigmoid')\n",
    "f_5 = Dense(54, activation='sigmoid')\n",
    "f_6 = Dense(20, activation='softmax')\n",
    "f_7 = Dense(10, activation='softmax')"
   ]
  },
  {
   "cell_type": "code",
   "execution_count": 11,
   "metadata": {},
   "outputs": [],
   "source": [
    "x= Input(shape=(784, ))\n",
    "h_1= f_1(x)\n",
    "h_2=f_2(h_1)\n",
    "h_3=f_3(h_1)\n",
    "u=concatenate([h_1,h_2, h_3])\n",
    "\n",
    "h_4=f_4(u)\n",
    "h_5=f_5(h_2)\n",
    "w=concatenate([h_4,h_5])\n",
    "v=f_6(h_5)\n",
    "y=f_7(v)"
   ]
  },
  {
   "cell_type": "code",
   "execution_count": 12,
   "metadata": {},
   "outputs": [
    {
     "name": "stdout",
     "output_type": "stream",
     "text": [
      "Model: \"model_1\"\n",
      "_________________________________________________________________\n",
      "Layer (type)                 Output Shape              Param #   \n",
      "=================================================================\n",
      "input_2 (InputLayer)         [(None, 784)]             0         \n",
      "_________________________________________________________________\n",
      "dense_7 (Dense)              (None, 611)               479635    \n",
      "_________________________________________________________________\n",
      "dense_8 (Dense)              (None, 520)               318240    \n",
      "_________________________________________________________________\n",
      "dense_11 (Dense)             (None, 54)                28134     \n",
      "_________________________________________________________________\n",
      "dense_12 (Dense)             (None, 20)                1100      \n",
      "_________________________________________________________________\n",
      "dense_13 (Dense)             (None, 10)                210       \n",
      "=================================================================\n",
      "Total params: 827,319\n",
      "Trainable params: 827,319\n",
      "Non-trainable params: 0\n",
      "_________________________________________________________________\n"
     ]
    }
   ],
   "source": [
    "model_1 = Model(x, y)\n",
    "model_1.summary()"
   ]
  },
  {
   "cell_type": "code",
   "execution_count": 13,
   "metadata": {},
   "outputs": [],
   "source": [
    "model_1.compile(loss='mse', optimizer=Adam(), metrics=['acc'])"
   ]
  },
  {
   "cell_type": "code",
   "execution_count": 14,
   "metadata": {},
   "outputs": [],
   "source": [
    "(x_train, y_train), (x_test, y_test) = datasets.fashion_mnist.load_data()"
   ]
  },
  {
   "cell_type": "code",
   "execution_count": 15,
   "metadata": {},
   "outputs": [
    {
     "data": {
      "text/plain": [
       "(60000, 28, 28)"
      ]
     },
     "execution_count": 15,
     "metadata": {},
     "output_type": "execute_result"
    }
   ],
   "source": [
    "x_train.shape"
   ]
  },
  {
   "cell_type": "code",
   "execution_count": 16,
   "metadata": {},
   "outputs": [],
   "source": [
    "# Load Fashine MNIST\n",
    "(x_train, y_train0), (x_test, y_test0) = datasets.fashion_mnist.load_data()\n",
    "\n",
    "# Reshape\n",
    "x_train = x_train.reshape(-1, 28*28)\n",
    "x_test = x_test.reshape(-1, 28*28)\n",
    "\n",
    "# Normalize\n",
    "x_train = x_train / x_train.max()\n",
    "x_test = x_test / x_test.max()\n",
    "\n",
    "# One-hot encoding\n",
    "y_train = to_categorical(y_train0, 10)\n",
    "y_test = to_categorical(y_test0, 10)"
   ]
  },
  {
   "cell_type": "code",
   "execution_count": 18,
   "metadata": {},
   "outputs": [
    {
     "name": "stdout",
     "output_type": "stream",
     "text": [
      "Train on 60000 samples\n",
      "Epoch 1/10\n",
      "60000/60000 [==============================] - 14s 227us/sample - loss: 0.0455 - acc: 0.7054\n",
      "Epoch 2/10\n",
      "60000/60000 [==============================] - 13s 224us/sample - loss: 0.0380 - acc: 0.7988\n",
      "Epoch 3/10\n",
      "60000/60000 [==============================] - 14s 233us/sample - loss: 0.0344 - acc: 0.8087\n",
      "Epoch 4/10\n",
      "60000/60000 [==============================] - 14s 235us/sample - loss: 0.0317 - acc: 0.8155 - loss: \n",
      "Epoch 5/10\n",
      "60000/60000 [==============================] - 13s 222us/sample - loss: 0.0296 - acc: 0.8222\n",
      "Epoch 6/10\n",
      "60000/60000 [==============================] - 15s 243us/sample - loss: 0.0280 - acc: 0.8306\n",
      "Epoch 7/10\n",
      "60000/60000 [==============================] - 12s 205us/sample - loss: 0.0261 - acc: 0.8549\n",
      "Epoch 8/10\n",
      "60000/60000 [==============================] - 12s 200us/sample - loss: 0.0237 - acc: 0.8828\n",
      "Epoch 9/10\n",
      "60000/60000 [==============================] - 12s 194us/sample - loss: 0.0217 - acc: 0.8881\n",
      "Epoch 10/10\n",
      "60000/60000 [==============================] - 12s 202us/sample - loss: 0.0203 - acc: 0.8921\n"
     ]
    },
    {
     "data": {
      "text/plain": [
       "<tensorflow.python.keras.callbacks.History at 0x1e49f0c42c8>"
      ]
     },
     "execution_count": 18,
     "metadata": {},
     "output_type": "execute_result"
    }
   ],
   "source": [
    "model_1.fit(x_train, y_train, batch_size=50, epochs=10)"
   ]
  },
  {
   "cell_type": "code",
   "execution_count": null,
   "metadata": {},
   "outputs": [],
   "source": []
  },
  {
   "cell_type": "code",
   "execution_count": null,
   "metadata": {},
   "outputs": [],
   "source": []
  }
 ],
 "metadata": {
  "kernelspec": {
   "display_name": "Python 3",
   "language": "python",
   "name": "python3"
  },
  "language_info": {
   "codemirror_mode": {
    "name": "ipython",
    "version": 3
   },
   "file_extension": ".py",
   "mimetype": "text/x-python",
   "name": "python",
   "nbconvert_exporter": "python",
   "pygments_lexer": "ipython3",
   "version": "3.7.4"
  }
 },
 "nbformat": 4,
 "nbformat_minor": 2
}
