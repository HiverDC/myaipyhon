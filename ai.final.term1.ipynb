{
 "cells": [
  {
   "cell_type": "code",
   "execution_count": 1,
   "metadata": {},
   "outputs": [],
   "source": [
    "import pandas as pd\n",
    "import numpy as np"
   ]
  },
  {
   "cell_type": "code",
   "execution_count": 2,
   "metadata": {},
   "outputs": [],
   "source": [
    "df = pd.read_csv(\"D:/Class/1082/aipython/KRfin01.csv\")\n",
    "df2 = pd.read_csv(\"D:/Class/1082/aipython/KRfin02.csv\")\n",
    "df2 = df2[df2.result != 2]"
   ]
  },
  {
   "cell_type": "code",
   "execution_count": 3,
   "metadata": {},
   "outputs": [],
   "source": [
    "df = df.append(df2, ignore_index=True)"
   ]
  },
  {
   "cell_type": "code",
   "execution_count": 4,
   "metadata": {},
   "outputs": [],
   "source": [
    "df = df.drop(columns = df.columns[0])\n",
    "df.dropna(inplace=True)"
   ]
  },
  {
   "cell_type": "code",
   "execution_count": 5,
   "metadata": {},
   "outputs": [],
   "source": [
    "Y = df[\"result\"].to_numpy().reshape(19941,1)\n",
    "df = df.drop(columns = \"result\")"
   ]
  },
  {
   "cell_type": "code",
   "execution_count": 6,
   "metadata": {},
   "outputs": [],
   "source": [
    "X = df.to_numpy()"
   ]
  },
  {
   "cell_type": "code",
   "execution_count": 7,
   "metadata": {},
   "outputs": [],
   "source": [
    "from sklearn.model_selection import train_test_split \n",
    "X_train, X_test, Y_train, Y_test = train_test_split(X, Y, test_size =0.2, random_state = 87)"
   ]
  },
  {
   "cell_type": "code",
   "execution_count": 8,
   "metadata": {},
   "outputs": [],
   "source": [
    "from tensorflow.keras.models import Sequential\n",
    "from tensorflow.keras.layers import Dense, Activation\n",
    "from tensorflow.keras.optimizers import SGD\n",
    "from tensorflow.keras.utils import to_categorical"
   ]
  },
  {
   "cell_type": "code",
   "execution_count": 9,
   "metadata": {},
   "outputs": [],
   "source": [
    "Y_train = to_categorical(Y_train, 2)\n",
    "Y_test = to_categorical(Y_test, 2)\n",
    "X_train = X_train.astype(dtype = 'float32')\n",
    "X_test = X_test.astype(dtype = 'float32')\n",
    "Y_train = Y_train.astype(dtype = 'float32')\n",
    "X_test = X_test.astype(dtype = 'float32')"
   ]
  },
  {
   "cell_type": "code",
   "execution_count": 10,
   "metadata": {},
   "outputs": [],
   "source": [
    "model = Sequential()\n",
    "model.add(Dense(128,input_dim = 23,activation = \"relu\"))\n",
    "model.add(Dense(64,activation = \"relu\"))\n",
    "model.add(Dense(16,activation = \"relu\"))\n",
    "model.add(Dense(2,activation = \"sigmoid\"))\n",
    "from tensorflow.keras.losses import BinaryCrossentropy\n",
    "from tensorflow.keras.optimizers import Adam\n",
    "model.compile(loss = BinaryCrossentropy(), optimizer=Adam(lr=0.00001), metrics=  [\"accuracy\"])"
   ]
  },
  {
   "cell_type": "code",
   "execution_count": 11,
   "metadata": {
    "scrolled": true
   },
   "outputs": [
    {
     "name": "stdout",
     "output_type": "stream",
     "text": [
      "Train on 15952 samples\n",
      "Epoch 1/10\n",
      "15952/15952 [==============================] - 1s 49us/sample - loss: 0.7125 - accuracy: 0.5000\n",
      "Epoch 2/10\n",
      "15952/15952 [==============================] - 0s 13us/sample - loss: 0.7024 - accuracy: 0.5000\n",
      "Epoch 3/10\n",
      "15952/15952 [==============================] - 0s 14us/sample - loss: 0.6964 - accuracy: 0.5002\n",
      "Epoch 4/10\n",
      "15952/15952 [==============================] - 0s 13us/sample - loss: 0.6941 - accuracy: 0.5033\n",
      "Epoch 5/10\n",
      "15952/15952 [==============================] - 0s 13us/sample - loss: 0.6934 - accuracy: 0.5063\n",
      "Epoch 6/10\n",
      "15952/15952 [==============================] - 0s 18us/sample - loss: 0.6932 - accuracy: 0.5086\n",
      "Epoch 7/10\n",
      "15952/15952 [==============================] - 0s 16us/sample - loss: 0.6931 - accuracy: 0.5077\n",
      "Epoch 8/10\n",
      "15952/15952 [==============================] - 0s 18us/sample - loss: 0.6931 - accuracy: 0.5076\n",
      "Epoch 9/10\n",
      "15952/15952 [==============================] - 0s 14us/sample - loss: 0.6931 - accuracy: 0.5084\n",
      "Epoch 10/10\n",
      "15952/15952 [==============================] - 0s 13us/sample - loss: 0.6931 - accuracy: 0.5081\n"
     ]
    },
    {
     "data": {
      "text/plain": [
       "<tensorflow.python.keras.callbacks.History at 0x214ca137588>"
      ]
     },
     "execution_count": 11,
     "metadata": {},
     "output_type": "execute_result"
    }
   ],
   "source": [
    "model.fit(X_train,Y_train, batch_size = 128, epochs =10)"
   ]
  },
  {
   "cell_type": "code",
   "execution_count": 12,
   "metadata": {},
   "outputs": [
    {
     "name": "stdout",
     "output_type": "stream",
     "text": [
      "3989/3989 [==============================] - 0s 61us/sample - loss: 0.6937 - accuracy: 0.4867\n"
     ]
    },
    {
     "data": {
      "text/plain": [
       "[0.6937082152851962, 0.48671347]"
      ]
     },
     "execution_count": 12,
     "metadata": {},
     "output_type": "execute_result"
    }
   ],
   "source": [
    "model.evaluate(X_test,Y_test)"
   ]
  },
  {
   "cell_type": "code",
   "execution_count": 13,
   "metadata": {},
   "outputs": [],
   "source": [
    "from tensorflow.keras.models import Model\n",
    "from tensorflow.keras.layers import Input"
   ]
  },
  {
   "cell_type": "code",
   "execution_count": 14,
   "metadata": {},
   "outputs": [],
   "source": [
    "x = Input(shape=(23,))\n",
    "f1 = Dense(128,input_dim = 23,activation = \"relu\")\n",
    "f2 = Dense(87,activation=\"selu\")\n",
    "f3 = Dense(77,activation=\"elu\")\n",
    "f4 = Dense(41,activation=\"relu\")\n",
    "f5 = Dense(2,activation=\"sigmoid\")"
   ]
  },
  {
   "cell_type": "code",
   "execution_count": 15,
   "metadata": {},
   "outputs": [],
   "source": [
    "from tensorflow.keras.layers import concatenate, add"
   ]
  },
  {
   "cell_type": "code",
   "execution_count": 16,
   "metadata": {},
   "outputs": [],
   "source": [
    "h1 = f1(x)\n",
    "h21 = f2(h1)\n",
    "h22 = f3(h1)\n",
    "u = concatenate([h21,h22])\n",
    "h3 = f4(u)\n",
    "y = f5(h3)"
   ]
  },
  {
   "cell_type": "code",
   "execution_count": 17,
   "metadata": {},
   "outputs": [],
   "source": [
    "model77 = Model(x,y)"
   ]
  },
  {
   "cell_type": "code",
   "execution_count": 18,
   "metadata": {},
   "outputs": [],
   "source": [
    "model77.compile(loss = BinaryCrossentropy(), optimizer=Adam(lr=0.00001), metrics=  [\"accuracy\"])"
   ]
  },
  {
   "cell_type": "code",
   "execution_count": 22,
   "metadata": {},
   "outputs": [
    {
     "name": "stdout",
     "output_type": "stream",
     "text": [
      "Train on 15952 samples\n",
      "Epoch 1/10\n",
      "15952/15952 [==============================] - 3s 159us/sample - loss: 0.6924 - accuracy: 0.5144 - loss:\n",
      "Epoch 2/10\n",
      "15952/15952 [==============================] - 2s 156us/sample - loss: 0.6923 - accuracy: 0.5148\n",
      "Epoch 3/10\n",
      "15952/15952 [==============================] - 3s 159us/sample - loss: 0.6923 - accuracy: 0.5214\n",
      "Epoch 4/10\n",
      "15952/15952 [==============================] - 3s 157us/sample - loss: 0.6923 - accuracy: 0.5198\n",
      "Epoch 5/10\n",
      "15952/15952 [==============================] - 3s 165us/sample - loss: 0.6923 - accuracy: 0.5186\n",
      "Epoch 6/10\n",
      "15952/15952 [==============================] - 3s 161us/sample - loss: 0.6923 - accuracy: 0.5184\n",
      "Epoch 7/10\n",
      "15952/15952 [==============================] - 3s 160us/sample - loss: 0.6920 - accuracy: 0.5205\n",
      "Epoch 8/10\n",
      "15952/15952 [==============================] - 3s 161us/sample - loss: 0.6922 - accuracy: 0.5180\n",
      "Epoch 9/10\n",
      "15952/15952 [==============================] - 3s 167us/sample - loss: 0.6922 - accuracy: 0.5176\n",
      "Epoch 10/10\n",
      "15952/15952 [==============================] - 3s 157us/sample - loss: 0.6921 - accuracy: 0.5174\n"
     ]
    },
    {
     "data": {
      "text/plain": [
       "<tensorflow.python.keras.callbacks.History at 0x214d2585908>"
      ]
     },
     "execution_count": 22,
     "metadata": {},
     "output_type": "execute_result"
    }
   ],
   "source": [
    "model77.fit(X_train,Y_train, batch_size = 10, epochs =10)"
   ]
  },
  {
   "cell_type": "code",
   "execution_count": null,
   "metadata": {},
   "outputs": [],
   "source": []
  },
  {
   "cell_type": "code",
   "execution_count": null,
   "metadata": {},
   "outputs": [],
   "source": []
  }
 ],
 "metadata": {
  "kernelspec": {
   "display_name": "Python 3",
   "language": "python",
   "name": "python3"
  },
  "language_info": {
   "codemirror_mode": {
    "name": "ipython",
    "version": 3
   },
   "file_extension": ".py",
   "mimetype": "text/x-python",
   "name": "python",
   "nbconvert_exporter": "python",
   "pygments_lexer": "ipython3",
   "version": "3.7.4"
  }
 },
 "nbformat": 4,
 "nbformat_minor": 2
}
