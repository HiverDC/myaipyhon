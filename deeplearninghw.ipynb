{
 "cells": [
  {
   "cell_type": "code",
   "execution_count": 1,
   "metadata": {},
   "outputs": [],
   "source": [
    "%matplotlib inline\n",
    "\n",
    "import numpy as np\n",
    "import matplotlib.pyplot as plt"
   ]
  },
  {
   "cell_type": "code",
   "execution_count": 2,
   "metadata": {},
   "outputs": [],
   "source": [
    "##1.讀入 MNSIT 數據"
   ]
  },
  {
   "cell_type": "code",
   "execution_count": 3,
   "metadata": {},
   "outputs": [],
   "source": [
    "import tensorflow as tf"
   ]
  },
  {
   "cell_type": "code",
   "execution_count": 4,
   "metadata": {},
   "outputs": [],
   "source": [
    "from tensorflow.keras.datasets import fashion_mnist"
   ]
  },
  {
   "cell_type": "code",
   "execution_count": 5,
   "metadata": {},
   "outputs": [],
   "source": [
    "(x_train, y_train), (x_test, y_test) = fashion_mnist.load_data()"
   ]
  },
  {
   "cell_type": "code",
   "execution_count": 6,
   "metadata": {},
   "outputs": [
    {
     "data": {
      "text/plain": [
       "60000"
      ]
     },
     "execution_count": 6,
     "metadata": {},
     "output_type": "execute_result"
    }
   ],
   "source": [
    "len(x_train)"
   ]
  },
  {
   "cell_type": "code",
   "execution_count": 7,
   "metadata": {},
   "outputs": [
    {
     "data": {
      "text/plain": [
       "60000"
      ]
     },
     "execution_count": 7,
     "metadata": {},
     "output_type": "execute_result"
    }
   ],
   "source": [
    "len(y_train)"
   ]
  },
  {
   "cell_type": "code",
   "execution_count": 8,
   "metadata": {},
   "outputs": [
    {
     "data": {
      "text/plain": [
       "10000"
      ]
     },
     "execution_count": 8,
     "metadata": {},
     "output_type": "execute_result"
    }
   ],
   "source": [
    "len(y_test)"
   ]
  },
  {
   "cell_type": "code",
   "execution_count": 9,
   "metadata": {},
   "outputs": [],
   "source": [
    "class_names = ['T-shirt/top', 'Trouser', 'Pullover', 'Dress', 'Coat',\n",
    "               'Sandal', 'Shirt', 'Sneaker', 'Bag', 'Ankle boot']"
   ]
  },
  {
   "cell_type": "code",
   "execution_count": 10,
   "metadata": {},
   "outputs": [
    {
     "data": {
      "text/plain": [
       "array([[  0,   0,   0,   0,   0,   0,   0,   0,   0,   0,   0,   0,   0,\n",
       "          0,   0,   0,   0,   0,   0,   0,   0,   0,   0,   0,   0,   0,\n",
       "          0,   0],\n",
       "       [  0,   0,   0,   0,   0,   0,   0,   0,   0,   0,   0,   0,   0,\n",
       "          0,   0,   0,   0,   0,   0,   0,   0,   0,   0,   0,   0,   0,\n",
       "          0,   0],\n",
       "       [  0,   0,   0,   0,   0,   0,   0,   0,   0,   0,   0,   0,   0,\n",
       "          0,   0,   0,   0,   0,   0,   0,   0,   0,   0,   0,   0,   0,\n",
       "          0,   0],\n",
       "       [  0,   0,   0,   0,   0,   0,   0,   0,   0,   0,   0,   0,   0,\n",
       "          0,   0,   0,   0,   0,   0,   0,   0,   0,   0,   0,   0,   0,\n",
       "          0,   0],\n",
       "       [  0,   0,   0,   0,   0,   0,   0,   0,   0,   0,   0,   0,   0,\n",
       "          0,   0,   0,   0,   0,   0,   0,   0,   0,   0,   0,   0,   0,\n",
       "          0,   0],\n",
       "       [  0,   0,   0,   0,   0,   0,   0,   0,   0,   0,   0,   0,   0,\n",
       "          0,   0,   0,   0,   0,   0,   0,   0,   0,   0,   0,   0,   0,\n",
       "          0,   0],\n",
       "       [  0,   0,   0,   0,   0,   0,   0,   0,   0,   0,   0,   0,   0,\n",
       "          0,   0,   0,   0,   0,   0,   0,   0,   0,   0,   0,   0,   0,\n",
       "          0,   0],\n",
       "       [  0,   0,   0,   0,   0,   0,   0,   0,   0,   0,   0,   0,   0,\n",
       "          0,   0,   0,   0,   0,   0,   0,   0,   0,   0,   0,   0,   0,\n",
       "          0,   0],\n",
       "       [  0,   0,   0,   0,   0,   0,   0,   0,   0,   0,   0,   0,   0,\n",
       "          0,  42,  59,   0,   0,   0,   0,   0,   0,   8,   0,   0,   0,\n",
       "          0,   0],\n",
       "       [  0,   0,   0,   0,   0,   0,   0,   0,   0,   0,   0,   0,   0,\n",
       "         66, 107, 211,   9,   0,   0,   5,   4,   0,   0,   0,  72, 154,\n",
       "          6,   0],\n",
       "       [  0,   0,   0,   0,   0,   0,   0,   0,   0,   1,   5,   0,  58,\n",
       "        157,  63, 136, 172,   0,   0,   0,   0,   0,  61, 172, 177, 191,\n",
       "         88,   0],\n",
       "       [  0,   0,   0,   0,   0,   0,   0,   0,   0,   0,   0,   0,  31,\n",
       "        199,  77,  75, 193, 151,   0,   0, 153, 255, 197, 206, 152, 142,\n",
       "        125,   0],\n",
       "       [  0,   0,   0,   0,   2,   3,   6,   0,   1,   2,   4,   0,   0,\n",
       "        239, 141, 178, 176, 179, 200, 252, 227, 150, 147, 189, 201, 198,\n",
       "        187,   0],\n",
       "       [  0,   0,   0,   0,   0,   0,   0,   0,   0,   0,   0,   0, 127,\n",
       "        143, 131, 204, 196, 124, 181, 177, 118, 160, 151, 187, 229, 193,\n",
       "         86,   0],\n",
       "       [  2,   0,   2,   0,   0,  68, 134,  98, 167,  42,  49, 156, 145,\n",
       "         89, 166, 201,  98, 155, 222, 140, 167, 148, 205, 206,   0,   0,\n",
       "          0,   0],\n",
       "       [  0,   0,   0,   0,  59, 160, 177, 174, 165, 156, 137, 117, 141,\n",
       "        211, 167,  94, 215, 252, 141, 139, 166, 150, 196,   0,   0,   0,\n",
       "          0,   0],\n",
       "       [ 46, 135,  73,  35, 147,  84, 143, 186,  64,  77, 127, 163, 108,\n",
       "          0,   0,   5, 165, 197, 126, 164, 168, 155, 176, 227, 231, 208,\n",
       "        125,   0],\n",
       "       [103, 191, 168, 148, 143, 130, 208, 205, 197, 145, 165, 164,  59,\n",
       "        107, 194, 208, 174, 162, 179, 170, 169, 176, 178, 214, 174, 186,\n",
       "        181,  39],\n",
       "       [  0, 113, 166, 182, 171, 155, 157, 152, 145, 153, 158, 167, 179,\n",
       "        190, 184, 178, 186, 180, 182, 175, 169, 176, 164, 163, 165, 177,\n",
       "        204, 119],\n",
       "       [  0,   0,   0,  65, 150, 206, 175, 208, 224, 212, 214, 223, 193,\n",
       "        199, 155, 134, 132, 192, 216, 216, 224, 221, 219, 230, 207, 198,\n",
       "        207,  34],\n",
       "       [  0,   0,   0,   0,   0,   0,   0,  27,  49,  26,  64,  40,  65,\n",
       "         19,   0,   0,   0,  14,  56,  46,  79,  83,  64,  73,  64,  33,\n",
       "          0,   0],\n",
       "       [  0,   0,   0,   0,   0,   0,   0,   0,   0,   0,   0,   0,   0,\n",
       "          0,   0,   0,   0,   0,   0,   0,   0,   0,   0,   0,   0,   0,\n",
       "          0,   0],\n",
       "       [  0,   0,   0,   0,   0,   0,   0,   0,   0,   0,   0,   0,   0,\n",
       "          0,   0,   0,   0,   0,   0,   0,   0,   0,   0,   0,   0,   0,\n",
       "          0,   0],\n",
       "       [  0,   0,   0,   0,   0,   0,   0,   0,   0,   0,   0,   0,   0,\n",
       "          0,   0,   0,   0,   0,   0,   0,   0,   0,   0,   0,   0,   0,\n",
       "          0,   0],\n",
       "       [  0,   0,   0,   0,   0,   0,   0,   0,   0,   0,   0,   0,   0,\n",
       "          0,   0,   0,   0,   0,   0,   0,   0,   0,   0,   0,   0,   0,\n",
       "          0,   0],\n",
       "       [  0,   0,   0,   0,   0,   0,   0,   0,   0,   0,   0,   0,   0,\n",
       "          0,   0,   0,   0,   0,   0,   0,   0,   0,   0,   0,   0,   0,\n",
       "          0,   0],\n",
       "       [  0,   0,   0,   0,   0,   0,   0,   0,   0,   0,   0,   0,   0,\n",
       "          0,   0,   0,   0,   0,   0,   0,   0,   0,   0,   0,   0,   0,\n",
       "          0,   0],\n",
       "       [  0,   0,   0,   0,   0,   0,   0,   0,   0,   0,   0,   0,   0,\n",
       "          0,   0,   0,   0,   0,   0,   0,   0,   0,   0,   0,   0,   0,\n",
       "          0,   0]], dtype=uint8)"
      ]
     },
     "execution_count": 10,
     "metadata": {},
     "output_type": "execute_result"
    }
   ],
   "source": [
    "n=1111\n",
    "x_train[n]"
   ]
  },
  {
   "cell_type": "code",
   "execution_count": 11,
   "metadata": {},
   "outputs": [
    {
     "data": {
      "text/plain": [
       "5"
      ]
     },
     "execution_count": 11,
     "metadata": {},
     "output_type": "execute_result"
    }
   ],
   "source": [
    "y_train[n]"
   ]
  },
  {
   "cell_type": "code",
   "execution_count": 14,
   "metadata": {},
   "outputs": [
    {
     "name": "stdout",
     "output_type": "stream",
     "text": [
      "這是 Sandal\n"
     ]
    },
    {
     "data": {
      "image/png": "[encoded data removed]",
      "text/plain": [
       "<Figure size 432x288 with 1 Axes>"
      ]
     },
     "metadata": {
      "needs_background": "light"
     },
     "output_type": "display_data"
    }
   ],
   "source": [
    "n = 1111\n",
    "print('這是', class_names[y_train[n]])\n",
    "plt.imshow(x_train[n], cmap='Blues');"
   ]
  },
  {
   "cell_type": "code",
   "execution_count": 15,
   "metadata": {},
   "outputs": [
    {
     "data": {
      "image/png": "[encoded data removed]",
      "text/plain": [
       "<Figure size 432x288 with 5 Axes>"
      ]
     },
     "metadata": {},
     "output_type": "display_data"
    }
   ],
   "source": [
    "pick = np.random.choice(60000, 5, replace=False)\n",
    "\n",
    "for i in range(5):\n",
    "    n = pick[i]\n",
    "    ax = plt.subplot(151+i)\n",
    "    ax.set_xticks([])\n",
    "    ax.set_yticks([])\n",
    "    ax.set_title(class_names[y_train[n]], fontsize=10)\n",
    "    plt.imshow(x_train[n], cmap='Blues')"
   ]
  },
  {
   "cell_type": "code",
   "execution_count": 16,
   "metadata": {},
   "outputs": [],
   "source": [
    "# 觀察資料幾筆"
   ]
  },
  {
   "cell_type": "code",
   "execution_count": 21,
   "metadata": {},
   "outputs": [
    {
     "data": {
      "text/plain": [
       "(60000, 28, 28)"
      ]
     },
     "execution_count": 21,
     "metadata": {},
     "output_type": "execute_result"
    }
   ],
   "source": [
    "x_train.shape"
   ]
  },
  {
   "cell_type": "code",
   "execution_count": 20,
   "metadata": {},
   "outputs": [
    {
     "data": {
      "text/plain": [
       "(10000, 28, 28)"
      ]
     },
     "execution_count": 20,
     "metadata": {},
     "output_type": "execute_result"
    }
   ],
   "source": [
    "x_test.shape"
   ]
  },
  {
   "cell_type": "code",
   "execution_count": 22,
   "metadata": {},
   "outputs": [
    {
     "data": {
      "text/plain": [
       "array([[0.        , 0.        , 0.        , 0.        , 0.        ,\n",
       "        0.        , 0.        , 0.        , 0.        , 0.        ,\n",
       "        0.        , 0.        , 0.        , 0.        , 0.        ,\n",
       "        0.        , 0.        , 0.        , 0.        , 0.        ,\n",
       "        0.        , 0.        , 0.        , 0.        , 0.        ,\n",
       "        0.        , 0.        , 0.        ],\n",
       "       [0.        , 0.        , 0.        , 0.        , 0.        ,\n",
       "        0.        , 0.        , 0.        , 0.        , 0.        ,\n",
       "        0.        , 0.        , 0.        , 0.        , 0.        ,\n",
       "        0.        , 0.        , 0.        , 0.        , 0.        ,\n",
       "        0.        , 0.        , 0.        , 0.        , 0.        ,\n",
       "        0.        , 0.        , 0.        ],\n",
       "       [0.        , 0.        , 0.        , 0.        , 0.        ,\n",
       "        0.        , 0.        , 0.        , 0.        , 0.        ,\n",
       "        0.        , 0.        , 0.        , 0.        , 0.        ,\n",
       "        0.        , 0.        , 0.        , 0.        , 0.        ,\n",
       "        0.        , 0.        , 0.        , 0.        , 0.        ,\n",
       "        0.        , 0.        , 0.        ],\n",
       "       [0.        , 0.        , 0.        , 0.        , 0.        ,\n",
       "        0.        , 0.        , 0.        , 0.        , 0.        ,\n",
       "        0.        , 0.        , 0.        , 0.        , 0.        ,\n",
       "        0.        , 0.        , 0.        , 0.        , 0.        ,\n",
       "        0.        , 0.        , 0.        , 0.        , 0.        ,\n",
       "        0.        , 0.        , 0.        ],\n",
       "       [0.        , 0.        , 0.        , 0.        , 0.        ,\n",
       "        0.        , 0.        , 0.        , 0.        , 0.        ,\n",
       "        0.        , 0.        , 0.        , 0.        , 0.        ,\n",
       "        0.        , 0.        , 0.        , 0.        , 0.        ,\n",
       "        0.        , 0.        , 0.        , 0.        , 0.        ,\n",
       "        0.        , 0.        , 0.        ],\n",
       "       [0.        , 0.        , 0.        , 0.        , 0.        ,\n",
       "        0.        , 0.        , 0.        , 0.        , 0.        ,\n",
       "        0.        , 0.        , 0.        , 0.        , 0.        ,\n",
       "        0.        , 0.        , 0.        , 0.        , 0.        ,\n",
       "        0.        , 0.        , 0.        , 0.        , 0.        ,\n",
       "        0.        , 0.        , 0.        ],\n",
       "       [0.        , 0.        , 0.        , 0.        , 0.        ,\n",
       "        0.        , 0.        , 0.        , 0.        , 0.        ,\n",
       "        0.        , 0.        , 0.        , 0.        , 0.00425532,\n",
       "        0.        , 0.        , 0.78297872, 0.81276596, 0.44680851,\n",
       "        0.21276596, 0.36595745, 0.35744681, 0.20851064, 0.18723404,\n",
       "        0.63829787, 0.20851064, 0.        ],\n",
       "       [0.        , 0.        , 0.        , 0.        , 0.        ,\n",
       "        0.        , 0.        , 0.        , 0.        , 0.        ,\n",
       "        0.        , 0.        , 0.        , 0.        , 0.        ,\n",
       "        0.        , 0.31914894, 0.97021277, 0.94893617, 0.92340426,\n",
       "        0.90638298, 0.94468085, 0.94468085, 0.96170213, 0.93191489,\n",
       "        1.08510638, 0.43404255, 0.        ],\n",
       "       [0.        , 0.        , 0.        , 0.        , 0.        ,\n",
       "        0.        , 0.        , 0.        , 0.        , 0.        ,\n",
       "        0.        , 0.        , 0.        , 0.        , 0.        ,\n",
       "        0.        , 0.77446809, 0.86382979, 0.72765957, 0.84680851,\n",
       "        0.84680851, 0.84680851, 0.87234043, 0.87234043, 0.89361702,\n",
       "        0.98297872, 0.2       , 0.        ],\n",
       "       [0.        , 0.        , 0.        , 0.        , 0.        ,\n",
       "        0.        , 0.        , 0.        , 0.        , 0.        ,\n",
       "        0.        , 0.        , 0.        , 0.01702128, 0.        ,\n",
       "        0.35319149, 0.99148936, 0.59574468, 0.61276596, 0.6       ,\n",
       "        0.85531915, 0.91489362, 0.85957447, 0.89361702, 0.90638298,\n",
       "        0.95319149, 0.19574468, 0.        ],\n",
       "       [0.        , 0.        , 0.        , 0.        , 0.        ,\n",
       "        0.        , 0.        , 0.        , 0.        , 0.        ,\n",
       "        0.        , 0.        , 0.        , 0.00425532, 0.        ,\n",
       "        0.72765957, 0.90212766, 0.60851064, 1.08510638, 1.        ,\n",
       "        0.62553191, 1.07659574, 1.04255319, 0.97446809, 0.8893617 ,\n",
       "        0.93191489, 0.14468085, 0.        ],\n",
       "       [0.        , 0.        , 0.        , 0.        , 0.        ,\n",
       "        0.        , 0.        , 0.        , 0.        , 0.        ,\n",
       "        0.        , 0.        , 0.        , 0.        , 0.16170213,\n",
       "        1.07659574, 0.69787234, 0.53191489, 0.97021277, 0.7106383 ,\n",
       "        0.8       , 1.08085106, 0.69361702, 1.08085106, 0.9106383 ,\n",
       "        0.91489362, 0.09361702, 0.        ],\n",
       "       [0.        , 0.        , 0.        , 0.        , 0.        ,\n",
       "        0.        , 0.        , 0.        , 0.        , 0.        ,\n",
       "        0.        , 0.00425532, 0.        , 0.        , 1.0212766 ,\n",
       "        0.77021277, 0.79148936, 0.71914894, 0.94042553, 0.90638298,\n",
       "        0.97446809, 0.93191489, 0.64680851, 0.62553191, 0.94893617,\n",
       "        0.93617021, 0.20425532, 0.        ],\n",
       "       [0.        , 0.        , 0.        , 0.        , 0.        ,\n",
       "        0.        , 0.        , 0.        , 0.        , 0.        ,\n",
       "        0.        , 0.0212766 , 0.        , 0.25531915, 0.94468085,\n",
       "        0.6893617 , 1.08085106, 0.80425532, 0.80425532, 1.08510638,\n",
       "        1.07234043, 0.86382979, 0.6893617 , 0.65531915, 0.95319149,\n",
       "        0.97446809, 0.63404255, 0.        ],\n",
       "       [0.        , 0.        , 0.        , 0.        , 0.        ,\n",
       "        0.        , 0.        , 0.        , 0.        , 0.00851064,\n",
       "        0.        , 0.        , 0.00425532, 1.04680851, 0.8893617 ,\n",
       "        0.76595745, 0.83829787, 0.54893617, 1.08510638, 0.44255319,\n",
       "        0.59574468, 1.08510638, 0.97446809, 1.05957447, 0.96170213,\n",
       "        0.94042553, 0.95319149, 0.        ],\n",
       "       [0.        , 0.        , 0.        , 0.        , 0.        ,\n",
       "        0.        , 0.        , 0.        , 0.        , 0.        ,\n",
       "        0.        , 0.28085106, 0.72340426, 0.94042553, 0.95319149,\n",
       "        1.01276596, 0.9106383 , 1.00425532, 1.04680851, 0.29361702,\n",
       "        0.18723404, 0.71489362, 0.98723404, 0.92765957, 0.94893617,\n",
       "        0.91914894, 1.08510638, 0.08085106],\n",
       "       [0.        , 0.        , 0.        , 0.        , 0.        ,\n",
       "        0.00425532, 0.00851064, 0.        , 0.        , 0.        ,\n",
       "        0.2212766 , 0.85957447, 0.86382979, 0.66382979, 0.97446809,\n",
       "        0.91489362, 0.99148936, 0.99574468, 0.92340426, 1.07659574,\n",
       "        1.04680851, 0.93617021, 0.97446809, 0.92340426, 0.95319149,\n",
       "        0.92765957, 1.08510638, 0.37021277],\n",
       "       [0.        , 0.00425532, 0.0212766 , 0.00851064, 0.        ,\n",
       "        0.        , 0.        , 0.        , 0.        , 0.61276596,\n",
       "        0.83404255, 0.94042553, 1.04255319, 0.6       , 1.00425532,\n",
       "        0.95319149, 0.89787234, 0.87659574, 0.90638298, 0.93191489,\n",
       "        0.97021277, 0.95744681, 0.96170213, 0.95319149, 0.93191489,\n",
       "        0.90638298, 0.9787234 , 0.50212766],\n",
       "       [0.00425532, 0.        , 0.        , 0.        , 0.        ,\n",
       "        0.        , 0.1106383 , 0.50638298, 0.92340426, 0.95319149,\n",
       "        0.90212766, 0.74893617, 0.53617021, 0.96170213, 1.05957447,\n",
       "        0.94893617, 0.9787234 , 0.92765957, 0.9787234 , 0.94468085,\n",
       "        0.93191489, 0.93617021, 0.94042553, 0.95319149, 1.01276596,\n",
       "        0.96595745, 1.08510638, 0.35319149],\n",
       "       [0.        , 0.        , 0.16170213, 0.3787234 , 0.72340426,\n",
       "        0.78297872, 0.90638298, 0.93617021, 0.91914894, 0.90212766,\n",
       "        0.94468085, 0.90212766, 0.9787234 , 1.08510638, 0.40851064,\n",
       "        0.31489362, 1.08510638, 0.93191489, 0.97021277, 0.97446809,\n",
       "        1.01702128, 1.03404255, 1.01276596, 0.99574468, 1.00425532,\n",
       "        0.92765957, 1.04255319, 0.34893617],\n",
       "       [0.        , 0.44680851, 0.85531915, 0.9787234 , 0.99148936,\n",
       "        0.89787234, 0.83829787, 0.88085106, 0.91489362, 0.89361702,\n",
       "        0.90212766, 0.93617021, 0.93617021, 0.9787234 , 0.55319149,\n",
       "        0.12340426, 0.90212766, 1.00425532, 1.01702128, 1.08510638,\n",
       "        0.94042553, 0.84680851, 0.79574468, 0.7787234 , 0.72340426,\n",
       "        0.64255319, 0.85531915, 0.2893617 ],\n",
       "       [0.45531915, 0.65957447, 0.62553191, 0.65531915, 0.71489362,\n",
       "        0.89787234, 0.9106383 , 0.86808511, 0.8893617 , 0.89787234,\n",
       "        0.8893617 , 0.89787234, 0.91914894, 0.94893617, 1.04680851,\n",
       "        0.98723404, 0.9787234 , 1.03404255, 0.66808511, 0.14042553,\n",
       "        0.1787234 , 0.89787234, 0.7106383 , 0.74468085, 0.74468085,\n",
       "        0.68085106, 0.90212766, 0.29787234],\n",
       "       [0.        , 0.00851064, 0.32765957, 0.65106383, 0.73191489,\n",
       "        0.96170213, 1.08510638, 1.08510638, 1.08510638, 1.00851064,\n",
       "        1.04680851, 1.06382979, 0.96595745, 0.95744681, 1.00425532,\n",
       "        0.82553191, 0.38723404, 0.        , 0.        , 0.        ,\n",
       "        0.13191489, 1.08510638, 0.90212766, 0.92765957, 0.92340426,\n",
       "        0.85531915, 1.06382979, 0.43404255],\n",
       "       [0.        , 0.        , 0.        , 0.        , 0.        ,\n",
       "        0.07234043, 0.14468085, 0.28510638, 0.39574468, 0.53191489,\n",
       "        0.5787234 , 0.5787234 , 0.57021277, 0.32340426, 0.        ,\n",
       "        0.        , 0.        , 0.        , 0.        , 0.        ,\n",
       "        0.05957447, 0.70212766, 0.54468085, 0.52765957, 0.50212766,\n",
       "        0.45106383, 0.52340426, 0.17021277],\n",
       "       [0.        , 0.        , 0.        , 0.        , 0.        ,\n",
       "        0.        , 0.        , 0.        , 0.        , 0.        ,\n",
       "        0.        , 0.        , 0.        , 0.        , 0.        ,\n",
       "        0.        , 0.        , 0.        , 0.        , 0.        ,\n",
       "        0.        , 0.        , 0.        , 0.        , 0.        ,\n",
       "        0.        , 0.        , 0.        ],\n",
       "       [0.        , 0.        , 0.        , 0.        , 0.        ,\n",
       "        0.        , 0.        , 0.        , 0.        , 0.        ,\n",
       "        0.        , 0.        , 0.        , 0.        , 0.        ,\n",
       "        0.        , 0.        , 0.        , 0.        , 0.        ,\n",
       "        0.        , 0.        , 0.        , 0.        , 0.        ,\n",
       "        0.        , 0.        , 0.        ],\n",
       "       [0.        , 0.        , 0.        , 0.        , 0.        ,\n",
       "        0.        , 0.        , 0.        , 0.        , 0.        ,\n",
       "        0.        , 0.        , 0.        , 0.        , 0.        ,\n",
       "        0.        , 0.        , 0.        , 0.        , 0.        ,\n",
       "        0.        , 0.        , 0.        , 0.        , 0.        ,\n",
       "        0.        , 0.        , 0.        ],\n",
       "       [0.        , 0.        , 0.        , 0.        , 0.        ,\n",
       "        0.        , 0.        , 0.        , 0.        , 0.        ,\n",
       "        0.        , 0.        , 0.        , 0.        , 0.        ,\n",
       "        0.        , 0.        , 0.        , 0.        , 0.        ,\n",
       "        0.        , 0.        , 0.        , 0.        , 0.        ,\n",
       "        0.        , 0.        , 0.        ]])"
      ]
     },
     "execution_count": 22,
     "metadata": {},
     "output_type": "execute_result"
    }
   ],
   "source": [
    "x_train[n]"
   ]
  },
  {
   "cell_type": "code",
   "execution_count": 25,
   "metadata": {},
   "outputs": [
    {
     "data": {
      "text/plain": [
       "1.0851063829787233"
      ]
     },
     "execution_count": 25,
     "metadata": {},
     "output_type": "execute_result"
    }
   ],
   "source": [
    "#像素的最大值\n",
    "np.max(x_train[n])"
   ]
  },
  {
   "cell_type": "code",
   "execution_count": 26,
   "metadata": {},
   "outputs": [
    {
     "name": "stdout",
     "output_type": "stream",
     "text": [
      "{0, 1, 2, 3, 4, 5, 6, 7, 8, 9}\n"
     ]
    }
   ],
   "source": [
    "print(set(y_train))#有幾類"
   ]
  },
  {
   "cell_type": "code",
   "execution_count": 27,
   "metadata": {},
   "outputs": [],
   "source": [
    "#處理資料"
   ]
  },
  {
   "cell_type": "code",
   "execution_count": 28,
   "metadata": {},
   "outputs": [],
   "source": [
    "x_train = x_train/255\n",
    "x_test = x_test/255\n",
    "x_train = x_train.reshape(60000, 784)\n",
    "x_test = x_test.reshape(10000, 784)"
   ]
  },
  {
   "cell_type": "code",
   "execution_count": 29,
   "metadata": {},
   "outputs": [],
   "source": [
    "from tensorflow.keras.utils import to_categorical"
   ]
  },
  {
   "cell_type": "code",
   "execution_count": 30,
   "metadata": {},
   "outputs": [],
   "source": [
    "y_train = to_categorical(y_train, 10)\n",
    "y_test = to_categorical(y_test, 10)"
   ]
  },
  {
   "cell_type": "code",
   "execution_count": 31,
   "metadata": {},
   "outputs": [
    {
     "data": {
      "text/plain": [
       "array([0., 0., 0., 0., 1., 0., 0., 0., 0., 0.], dtype=float32)"
      ]
     },
     "execution_count": 31,
     "metadata": {},
     "output_type": "execute_result"
    }
   ],
   "source": [
    "y_train[5211]"
   ]
  },
  {
   "cell_type": "code",
   "execution_count": 32,
   "metadata": {},
   "outputs": [],
   "source": [
    "#建立神經網絡"
   ]
  },
  {
   "cell_type": "code",
   "execution_count": 33,
   "metadata": {},
   "outputs": [],
   "source": [
    "from tensorflow.keras.models import Sequential\n",
    "from tensorflow.keras.layers import Dense\n",
    "from tensorflow.keras.optimizers import SGD"
   ]
  },
  {
   "cell_type": "code",
   "execution_count": 34,
   "metadata": {},
   "outputs": [],
   "source": [
    "model = Sequential()\n",
    "model.add(Dense(50, input_dim=784, activation='relu'))\n",
    "model.add(Dense(38, activation='relu'))\n",
    "model.add(Dense(10, activation='softmax'))\n",
    "model.compile(loss='mse', optimizer=SGD(lr=0.025), metrics=['accuracy'])"
   ]
  },
  {
   "cell_type": "code",
   "execution_count": 35,
   "metadata": {},
   "outputs": [
    {
     "name": "stdout",
     "output_type": "stream",
     "text": [
      "Model: \"sequential\"\n",
      "_________________________________________________________________\n",
      "Layer (type)                 Output Shape              Param #   \n",
      "=================================================================\n",
      "dense (Dense)                (None, 50)                39250     \n",
      "_________________________________________________________________\n",
      "dense_1 (Dense)              (None, 38)                1938      \n",
      "_________________________________________________________________\n",
      "dense_2 (Dense)              (None, 10)                390       \n",
      "=================================================================\n",
      "Total params: 41,578\n",
      "Trainable params: 41,578\n",
      "Non-trainable params: 0\n",
      "_________________________________________________________________\n"
     ]
    }
   ],
   "source": [
    "#觀看結構\n",
    "model.summary()"
   ]
  },
  {
   "cell_type": "code",
   "execution_count": 37,
   "metadata": {},
   "outputs": [
    {
     "name": "stdout",
     "output_type": "stream",
     "text": [
      "Train on 60000 samples\n",
      "Epoch 1/10\n",
      "60000/60000 [==============================] - 6s 97us/sample - loss: 0.0900 - accuracy: 0.2145\n",
      "Epoch 2/10\n",
      "60000/60000 [==============================] - 5s 86us/sample - loss: 0.0900 - accuracy: 0.2306\n",
      "Epoch 3/10\n",
      "60000/60000 [==============================] - 5s 89us/sample - loss: 0.0900 - accuracy: 0.2474\n",
      "Epoch 4/10\n",
      "60000/60000 [==============================] - 5s 91us/sample - loss: 0.0900 - accuracy: 0.2093\n",
      "Epoch 5/10\n",
      "60000/60000 [==============================] - 5s 89us/sample - loss: 0.0900 - accuracy: 0.2419\n",
      "Epoch 6/10\n",
      "60000/60000 [==============================] - 7s 114us/sample - loss: 0.0900 - accuracy: 0.2325\n",
      "Epoch 7/10\n",
      "60000/60000 [==============================] - 7s 116us/sample - loss: 0.0900 - accuracy: 0.2511\n",
      "Epoch 8/10\n",
      "60000/60000 [==============================] - 9s 150us/sample - loss: 0.0900 - accuracy: 0.2512\n",
      "Epoch 9/10\n",
      "60000/60000 [==============================] - 8s 136us/sample - loss: 0.0900 - accuracy: 0.2111\n",
      "Epoch 10/10\n",
      "60000/60000 [==============================] - 8s 134us/sample - loss: 0.0900 - accuracy: 0.2180\n"
     ]
    },
    {
     "data": {
      "text/plain": [
       "<tensorflow.python.keras.callbacks.History at 0x136d2482c48>"
      ]
     },
     "execution_count": 37,
     "metadata": {},
     "output_type": "execute_result"
    }
   ],
   "source": [
    "#訓練\n",
    "model.fit(x_train, y_train, batch_size=20, epochs=10)"
   ]
  },
  {
   "cell_type": "code",
   "execution_count": 38,
   "metadata": {},
   "outputs": [],
   "source": [
    "#測試結果\n",
    "result = model.predict_classes(x_test)"
   ]
  },
  {
   "cell_type": "code",
   "execution_count": 39,
   "metadata": {},
   "outputs": [
    {
     "name": "stdout",
     "output_type": "stream",
     "text": [
      "神經網路預測是: Trouser\n"
     ]
    },
    {
     "data": {
      "text/plain": [
       "<matplotlib.image.AxesImage at 0x136d2721908>"
      ]
     },
     "execution_count": 39,
     "metadata": {},
     "output_type": "execute_result"
    },
    {
     "data": {
      "image/png": "[encoded data removed]",
      "text/plain": [
       "<Figure size 432x288 with 1 Axes>"
      ]
     },
     "metadata": {
      "needs_background": "light"
     },
     "output_type": "display_data"
    }
   ],
   "source": [
    "n = 9211\n",
    "print('神經網路預測是:', class_names[result[n]])\n",
    "plt.imshow(x_test[n].reshape(28,28), cmap='Blues')"
   ]
  },
  {
   "cell_type": "code",
   "execution_count": null,
   "metadata": {},
   "outputs": [],
   "source": []
  }
 ],
 "metadata": {
  "kernelspec": {
   "display_name": "Python 3",
   "language": "python",
   "name": "python3"
  },
  "language_info": {
   "codemirror_mode": {
    "name": "ipython",
    "version": 3
   },
   "file_extension": ".py",
   "mimetype": "text/x-python",
   "name": "python",
   "nbconvert_exporter": "python",
   "pygments_lexer": "ipython3",
   "version": "3.7.4"
  }
 },
 "nbformat": 4,
 "nbformat_minor": 2
}
