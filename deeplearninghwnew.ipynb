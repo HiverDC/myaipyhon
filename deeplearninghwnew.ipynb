{
 "cells": [
  {
   "cell_type": "code",
   "execution_count": 1,
   "metadata": {},
   "outputs": [],
   "source": [
    "%matplotlib inline\n",
    "\n",
    "import numpy as np\n",
    "import matplotlib.pyplot as plt"
   ]
  },
  {
   "cell_type": "code",
   "execution_count": 2,
   "metadata": {},
   "outputs": [],
   "source": [
    "##1.讀入 MNSIT 數據"
   ]
  },
  {
   "cell_type": "code",
   "execution_count": 3,
   "metadata": {},
   "outputs": [],
   "source": [
    "import tensorflow as tf"
   ]
  },
  {
   "cell_type": "code",
   "execution_count": 4,
   "metadata": {},
   "outputs": [],
   "source": [
    "from tensorflow.keras.datasets import fashion_mnist"
   ]
  },
  {
   "cell_type": "code",
   "execution_count": 5,
   "metadata": {},
   "outputs": [],
   "source": [
    "(x_train, y_train), (x_test, y_test) = fashion_mnist.load_data()"
   ]
  },
  {
   "cell_type": "code",
   "execution_count": 6,
   "metadata": {},
   "outputs": [
    {
     "data": {
      "text/plain": [
       "60000"
      ]
     },
     "execution_count": 6,
     "metadata": {},
     "output_type": "execute_result"
    }
   ],
   "source": [
    "len(x_train)"
   ]
  },
  {
   "cell_type": "code",
   "execution_count": 7,
   "metadata": {},
   "outputs": [
    {
     "data": {
      "text/plain": [
       "60000"
      ]
     },
     "execution_count": 7,
     "metadata": {},
     "output_type": "execute_result"
    }
   ],
   "source": [
    "len(y_train)"
   ]
  },
  {
   "cell_type": "code",
   "execution_count": 8,
   "metadata": {},
   "outputs": [
    {
     "data": {
      "text/plain": [
       "10000"
      ]
     },
     "execution_count": 8,
     "metadata": {},
     "output_type": "execute_result"
    }
   ],
   "source": [
    "len(y_test)"
   ]
  },
  {
   "cell_type": "code",
   "execution_count": 9,
   "metadata": {},
   "outputs": [],
   "source": [
    "class_names = ['T-shirt/top', 'Trouser', 'Pullover', 'Dress', 'Coat',\n",
    "               'Sandal', 'Shirt', 'Sneaker', 'Bag', 'Ankle boot']"
   ]
  },
  {
   "cell_type": "code",
   "execution_count": 10,
   "metadata": {},
   "outputs": [
    {
     "data": {
      "text/plain": [
       "array([[  0,   0,   0,   0,   0,   0,   0,   0,   0,   0,   0,   0,   0,\n",
       "          0,   0,   0,   0,   0,   0,   0,   0,   0,   0,   0,   0,   0,\n",
       "          0,   0],\n",
       "       [  0,   0,   0,   0,   0,   0,   0,   0,   0,   0,   0,   0,   0,\n",
       "          0,   0,   0,   0,   0,   0,   0,   0,   0,   0,   0,   0,   0,\n",
       "          0,   0],\n",
       "       [  0,   0,   0,   0,   0,   0,   0,   0,   0,   0,   0,   0,   0,\n",
       "          0,   0,   0,   0,   0,   0,   0,   0,   0,   0,   0,   0,   0,\n",
       "          0,   0],\n",
       "       [  0,   0,   0,   0,   0,   0,   0,   0,   0,   0,   0,   0,   0,\n",
       "          0,   0,   0,   0,   0,   0,   0,   0,   0,   0,   0,   0,   0,\n",
       "          0,   0],\n",
       "       [  0,   0,   0,   0,   0,   0,   0,   0,   0,   0,   0,   0,   0,\n",
       "          0,   0,   0,   0,   0,   0,   0,   0,   0,   0,   0,   0,   0,\n",
       "          0,   0],\n",
       "       [  0,   0,   0,   0,   0,   0,   0,   0,   0,   0,   0,   0,   0,\n",
       "          0,   0,   0,   0,   0,   0,   0,   0,   0,   0,   0,   0,   0,\n",
       "          0,   0],\n",
       "       [  0,   0,   0,   0,   0,   0,   0,   0,   0,   0,   0,   0,   0,\n",
       "          0,   0,   0,   0,   0,   0,   0,   0,   0,   0,   0,   0,   0,\n",
       "          0,   0],\n",
       "       [  0,   0,   0,   0,   0,   0,   0,   0,   0,   0,   0,   0,   0,\n",
       "          0,   0,   0,   0,   0,   0,   0,   0,   0,   0,   0,   0,   0,\n",
       "          0,   0],\n",
       "       [  0,   0,   0,   0,   0,   0,   0,   0,   0,   0,   0,   0,   0,\n",
       "          0,  42,  59,   0,   0,   0,   0,   0,   0,   8,   0,   0,   0,\n",
       "          0,   0],\n",
       "       [  0,   0,   0,   0,   0,   0,   0,   0,   0,   0,   0,   0,   0,\n",
       "         66, 107, 211,   9,   0,   0,   5,   4,   0,   0,   0,  72, 154,\n",
       "          6,   0],\n",
       "       [  0,   0,   0,   0,   0,   0,   0,   0,   0,   1,   5,   0,  58,\n",
       "        157,  63, 136, 172,   0,   0,   0,   0,   0,  61, 172, 177, 191,\n",
       "         88,   0],\n",
       "       [  0,   0,   0,   0,   0,   0,   0,   0,   0,   0,   0,   0,  31,\n",
       "        199,  77,  75, 193, 151,   0,   0, 153, 255, 197, 206, 152, 142,\n",
       "        125,   0],\n",
       "       [  0,   0,   0,   0,   2,   3,   6,   0,   1,   2,   4,   0,   0,\n",
       "        239, 141, 178, 176, 179, 200, 252, 227, 150, 147, 189, 201, 198,\n",
       "        187,   0],\n",
       "       [  0,   0,   0,   0,   0,   0,   0,   0,   0,   0,   0,   0, 127,\n",
       "        143, 131, 204, 196, 124, 181, 177, 118, 160, 151, 187, 229, 193,\n",
       "         86,   0],\n",
       "       [  2,   0,   2,   0,   0,  68, 134,  98, 167,  42,  49, 156, 145,\n",
       "         89, 166, 201,  98, 155, 222, 140, 167, 148, 205, 206,   0,   0,\n",
       "          0,   0],\n",
       "       [  0,   0,   0,   0,  59, 160, 177, 174, 165, 156, 137, 117, 141,\n",
       "        211, 167,  94, 215, 252, 141, 139, 166, 150, 196,   0,   0,   0,\n",
       "          0,   0],\n",
       "       [ 46, 135,  73,  35, 147,  84, 143, 186,  64,  77, 127, 163, 108,\n",
       "          0,   0,   5, 165, 197, 126, 164, 168, 155, 176, 227, 231, 208,\n",
       "        125,   0],\n",
       "       [103, 191, 168, 148, 143, 130, 208, 205, 197, 145, 165, 164,  59,\n",
       "        107, 194, 208, 174, 162, 179, 170, 169, 176, 178, 214, 174, 186,\n",
       "        181,  39],\n",
       "       [  0, 113, 166, 182, 171, 155, 157, 152, 145, 153, 158, 167, 179,\n",
       "        190, 184, 178, 186, 180, 182, 175, 169, 176, 164, 163, 165, 177,\n",
       "        204, 119],\n",
       "       [  0,   0,   0,  65, 150, 206, 175, 208, 224, 212, 214, 223, 193,\n",
       "        199, 155, 134, 132, 192, 216, 216, 224, 221, 219, 230, 207, 198,\n",
       "        207,  34],\n",
       "       [  0,   0,   0,   0,   0,   0,   0,  27,  49,  26,  64,  40,  65,\n",
       "         19,   0,   0,   0,  14,  56,  46,  79,  83,  64,  73,  64,  33,\n",
       "          0,   0],\n",
       "       [  0,   0,   0,   0,   0,   0,   0,   0,   0,   0,   0,   0,   0,\n",
       "          0,   0,   0,   0,   0,   0,   0,   0,   0,   0,   0,   0,   0,\n",
       "          0,   0],\n",
       "       [  0,   0,   0,   0,   0,   0,   0,   0,   0,   0,   0,   0,   0,\n",
       "          0,   0,   0,   0,   0,   0,   0,   0,   0,   0,   0,   0,   0,\n",
       "          0,   0],\n",
       "       [  0,   0,   0,   0,   0,   0,   0,   0,   0,   0,   0,   0,   0,\n",
       "          0,   0,   0,   0,   0,   0,   0,   0,   0,   0,   0,   0,   0,\n",
       "          0,   0],\n",
       "       [  0,   0,   0,   0,   0,   0,   0,   0,   0,   0,   0,   0,   0,\n",
       "          0,   0,   0,   0,   0,   0,   0,   0,   0,   0,   0,   0,   0,\n",
       "          0,   0],\n",
       "       [  0,   0,   0,   0,   0,   0,   0,   0,   0,   0,   0,   0,   0,\n",
       "          0,   0,   0,   0,   0,   0,   0,   0,   0,   0,   0,   0,   0,\n",
       "          0,   0],\n",
       "       [  0,   0,   0,   0,   0,   0,   0,   0,   0,   0,   0,   0,   0,\n",
       "          0,   0,   0,   0,   0,   0,   0,   0,   0,   0,   0,   0,   0,\n",
       "          0,   0],\n",
       "       [  0,   0,   0,   0,   0,   0,   0,   0,   0,   0,   0,   0,   0,\n",
       "          0,   0,   0,   0,   0,   0,   0,   0,   0,   0,   0,   0,   0,\n",
       "          0,   0]], dtype=uint8)"
      ]
     },
     "execution_count": 10,
     "metadata": {},
     "output_type": "execute_result"
    }
   ],
   "source": [
    "n=1111\n",
    "x_train[n]"
   ]
  },
  {
   "cell_type": "code",
   "execution_count": 11,
   "metadata": {},
   "outputs": [
    {
     "data": {
      "text/plain": [
       "5"
      ]
     },
     "execution_count": 11,
     "metadata": {},
     "output_type": "execute_result"
    }
   ],
   "source": [
    "y_train[n]"
   ]
  },
  {
   "cell_type": "code",
   "execution_count": 12,
   "metadata": {},
   "outputs": [
    {
     "name": "stdout",
     "output_type": "stream",
     "text": [
      "這是 Sandal\n"
     ]
    },
    {
     "data": {
      "image/png": "[encoded data removed]",
      "text/plain": [
       "<Figure size 432x288 with 1 Axes>"
      ]
     },
     "metadata": {
      "needs_background": "light"
     },
     "output_type": "display_data"
    }
   ],
   "source": [
    "n = 1111\n",
    "print('這是', class_names[y_train[n]])\n",
    "plt.imshow(x_train[n], cmap='Blues');"
   ]
  },
  {
   "cell_type": "code",
   "execution_count": 13,
   "metadata": {},
   "outputs": [
    {
     "data": {
      "image/png": "[encoded data removed]",
      "text/plain": [
       "<Figure size 432x288 with 5 Axes>"
      ]
     },
     "metadata": {},
     "output_type": "display_data"
    }
   ],
   "source": [
    "pick = np.random.choice(60000, 5, replace=False)\n",
    "\n",
    "for i in range(5):\n",
    "    n = pick[i]\n",
    "    ax = plt.subplot(151+i)\n",
    "    ax.set_xticks([])\n",
    "    ax.set_yticks([])\n",
    "    ax.set_title(class_names[y_train[n]], fontsize=10)\n",
    "    plt.imshow(x_train[n], cmap='Blues')"
   ]
  },
  {
   "cell_type": "code",
   "execution_count": 14,
   "metadata": {},
   "outputs": [],
   "source": [
    "# 觀察資料幾筆"
   ]
  },
  {
   "cell_type": "code",
   "execution_count": 15,
   "metadata": {},
   "outputs": [
    {
     "data": {
      "text/plain": [
       "(60000, 28, 28)"
      ]
     },
     "execution_count": 15,
     "metadata": {},
     "output_type": "execute_result"
    }
   ],
   "source": [
    "x_train.shape"
   ]
  },
  {
   "cell_type": "code",
   "execution_count": 16,
   "metadata": {},
   "outputs": [
    {
     "data": {
      "text/plain": [
       "(10000, 28, 28)"
      ]
     },
     "execution_count": 16,
     "metadata": {},
     "output_type": "execute_result"
    }
   ],
   "source": [
    "x_test.shape"
   ]
  },
  {
   "cell_type": "code",
   "execution_count": 17,
   "metadata": {},
   "outputs": [
    {
     "data": {
      "text/plain": [
       "array([[  0,   0,   0,   0,   0,   0,   0,   0,   0,   0,   0,   0, 151,\n",
       "        154, 164, 149, 183, 190,   0,   0,   0,   0,   0,   0,   0,   0,\n",
       "          0,   0],\n",
       "       [  0,   0,   0,   0,   0,   0,   0,   0,   0,  37,  96, 224, 214,\n",
       "        197, 122, 120, 209, 212, 154,  81,   0,   0,   0,   1,   0,   0,\n",
       "          0,   0],\n",
       "       [  0,   0,   0,   0,   0,   0,   0,  45, 192, 212, 173, 170, 178,\n",
       "        198,  64, 124, 222, 125, 147, 190, 181,  88,   0,   0,   1,   0,\n",
       "          0,   0],\n",
       "       [  0,   0,   0,   0,   1,   0,  35, 193, 176, 147, 178, 139, 144,\n",
       "        170, 187, 209, 132, 137, 134, 137, 153, 171, 124,   0,   0,   0,\n",
       "          0,   0],\n",
       "       [  0,   0,   0,   0,   0,   0, 154, 202, 156, 161, 175, 137, 142,\n",
       "        142, 168, 134, 142, 151, 144, 161, 147, 141, 168,  35,   0,   3,\n",
       "          0,   0],\n",
       "       [  0,   0,   0,   0,   0,   0, 178, 229, 127, 168, 159, 137, 144,\n",
       "        156, 156, 119, 158, 156, 127, 142, 146, 141, 183,  79,   0,   0,\n",
       "          0,   0],\n",
       "       [  0,   0,   0,   1,   0,  44, 180, 202, 144, 158, 170, 120, 149,\n",
       "        144, 139, 117, 171, 151, 132, 141, 149, 122, 187, 122,   0,   0,\n",
       "          1,   0],\n",
       "       [  0,   0,   0,   0,   0, 100, 173, 210, 108, 163, 147, 115, 144,\n",
       "        136, 142, 136, 146, 119, 115, 147, 136, 149, 175, 137,   0,   0,\n",
       "          1,   0],\n",
       "       [  0,   0,   1,   0,   0, 149, 164, 210, 108, 175, 136, 130, 139,\n",
       "        139, 151, 147, 129, 147, 136, 158, 136, 139, 149, 144,  47,   0,\n",
       "          3,   0],\n",
       "       [  0,   0,   3,   0,  17, 185, 158, 226, 108, 176, 146, 136, 107,\n",
       "        120, 144, 136, 122, 156, 139, 149, 137, 137, 136, 149,  91,   0,\n",
       "          0,   0],\n",
       "       [  0,   1,   0,   0,  90, 164, 161, 229, 112, 144, 122, 119,  98,\n",
       "        110, 134, 141, 129, 144, 134, 132, 129, 142, 120, 129, 130,   0,\n",
       "          0,   0],\n",
       "       [  0,   0,   0,   0, 124, 168, 171, 221, 112, 137, 141, 119, 125,\n",
       "        113, 129, 147, 115, 141, 139, 119, 122, 137, 117, 122, 158,   8,\n",
       "          0,   1],\n",
       "       [  0,   1,   0,   3, 149, 144, 173, 224, 110, 107, 141, 117, 132,\n",
       "        120, 134, 129, 119, 134, 151, 122, 129, 141, 134, 117, 161,  44,\n",
       "          0,   0],\n",
       "       [  0,   1,   0,  35, 181, 124, 176, 229, 113, 117, 139, 119, 134,\n",
       "        113, 139, 137, 107, 122, 144, 129, 132, 129, 125, 117, 161,  86,\n",
       "          0,   0],\n",
       "       [  0,   0,   0,  88, 166, 115, 176, 229, 102, 144, 142, 122, 142,\n",
       "        113, 132, 122, 115, 110, 153, 127, 112, 139, 125, 108, 154, 119,\n",
       "          0,   0],\n",
       "       [  0,   0,   0, 137, 159, 122, 192, 236,  73, 130, 113, 136, 149,\n",
       "        107, 142, 130, 125, 119, 144, 130, 124, 141, 127, 124, 137, 141,\n",
       "          0,   0],\n",
       "       [  0,   0,   3, 166, 156, 130, 195, 236,  59, 122, 103, 137, 127,\n",
       "        125, 124, 117, 130, 108, 139, 127, 122, 117, 120, 124, 132, 173,\n",
       "         18,   0],\n",
       "       [  0,   0,  15, 175, 154, 134, 209, 244,  66, 119, 127, 139, 103,\n",
       "        136, 132, 129, 120, 115, 146, 142, 119, 124, 125, 137, 122, 147,\n",
       "         51,   0],\n",
       "       [  0,   0,  49, 180, 156, 127, 214, 232,  71, 127, 108, 139, 124,\n",
       "        124, 127, 129, 115, 117, 129, 139,  98, 113, 122, 147, 115, 144,\n",
       "        108,   0],\n",
       "       [  0,   0,  83, 173, 154, 107, 224, 224,  69, 125, 139, 134, 102,\n",
       "        127, 112, 115, 120,  95, 122, 146,  91, 122, 125, 149, 117, 134,\n",
       "        141,   0],\n",
       "       [  0,   0, 122, 149, 176,  86, 226, 224,  81, 122, 142, 120, 100,\n",
       "         95, 130, 113, 110, 108, 112, 166, 100, 137, 127, 137, 124, 122,\n",
       "        134,   0],\n",
       "       [  0,   0, 166, 151, 176, 102, 221, 255, 107, 132, 147, 120, 117,\n",
       "        107, 154, 113,  95, 125, 102, 173,  98,  98, 129, 124, 125, 129,\n",
       "        139,   0],\n",
       "       [  0,   0, 188, 159, 147, 137, 181, 159, 110, 110, 164, 122, 108,\n",
       "        112, 147, 146, 115, 110, 105, 166, 108, 122,  49, 132, 139, 110,\n",
       "        147,  18],\n",
       "       [  0,   0, 204, 161, 139, 192,  73, 120, 136, 122, 158, 113, 107,\n",
       "        103, 134, 122, 100, 122,  91, 188, 108, 137,   6,  95, 139, 112,\n",
       "        136,  18],\n",
       "       [  0,  13, 180, 164, 153, 192,   0, 163, 113, 141, 163, 100, 117,\n",
       "        129, 163, 130, 112, 120,  98, 175, 129, 134,  13,  39, 159, 113,\n",
       "        142,  11],\n",
       "       [  0,  91, 195, 163, 173, 146,   0, 185, 144, 132, 154,  96, 112,\n",
       "        112, 163, 125, 119, 119,  90, 149, 137, 159,  17,   0, 175, 132,\n",
       "        146,  37],\n",
       "       [  0,  85, 187, 175, 202,  91,   0,  45, 113, 171, 188, 137, 129,\n",
       "        112, 146, 117,  98, 139, 108, 187, 175, 105,   1,  10, 193, 153,\n",
       "        178, 102],\n",
       "       [  0,   0,   0,  25, 105,  17,   0,   0,   0,   0,  35,  54,  69,\n",
       "        132, 190, 175, 120,  71,  49,  39,  13,   0,   0,   0,  98,  40,\n",
       "         45,   0]], dtype=uint8)"
      ]
     },
     "execution_count": 17,
     "metadata": {},
     "output_type": "execute_result"
    }
   ],
   "source": [
    "x_train[n]"
   ]
  },
  {
   "cell_type": "code",
   "execution_count": 18,
   "metadata": {},
   "outputs": [
    {
     "data": {
      "text/plain": [
       "255"
      ]
     },
     "execution_count": 18,
     "metadata": {},
     "output_type": "execute_result"
    }
   ],
   "source": [
    "#像素的最大值\n",
    "np.max(x_train[n])"
   ]
  },
  {
   "cell_type": "code",
   "execution_count": 19,
   "metadata": {},
   "outputs": [
    {
     "name": "stdout",
     "output_type": "stream",
     "text": [
      "{0, 1, 2, 3, 4, 5, 6, 7, 8, 9}\n"
     ]
    }
   ],
   "source": [
    "print(set(y_train))#有幾類"
   ]
  },
  {
   "cell_type": "code",
   "execution_count": 20,
   "metadata": {},
   "outputs": [],
   "source": [
    "#處理資料"
   ]
  },
  {
   "cell_type": "code",
   "execution_count": 21,
   "metadata": {},
   "outputs": [],
   "source": [
    "x_train = x_train/255\n",
    "x_test = x_test/255\n",
    "x_train = x_train.reshape(60000, 784)\n",
    "x_test = x_test.reshape(10000, 784)"
   ]
  },
  {
   "cell_type": "code",
   "execution_count": 22,
   "metadata": {},
   "outputs": [],
   "source": [
    "from tensorflow.keras.utils import to_categorical"
   ]
  },
  {
   "cell_type": "code",
   "execution_count": 23,
   "metadata": {},
   "outputs": [],
   "source": [
    "y_train = to_categorical(y_train, 10)\n",
    "y_test = to_categorical(y_test, 10)"
   ]
  },
  {
   "cell_type": "code",
   "execution_count": 24,
   "metadata": {},
   "outputs": [
    {
     "data": {
      "text/plain": [
       "array([0., 0., 0., 0., 1., 0., 0., 0., 0., 0.], dtype=float32)"
      ]
     },
     "execution_count": 24,
     "metadata": {},
     "output_type": "execute_result"
    }
   ],
   "source": [
    "y_train[5211]"
   ]
  },
  {
   "cell_type": "code",
   "execution_count": 25,
   "metadata": {},
   "outputs": [],
   "source": [
    "#建立神經網絡"
   ]
  },
  {
   "cell_type": "code",
   "execution_count": 26,
   "metadata": {},
   "outputs": [],
   "source": [
    "from tensorflow.keras.models import Sequential\n",
    "from tensorflow.keras.layers import Dense\n",
    "from tensorflow.keras.optimizers import SGD"
   ]
  },
  {
   "cell_type": "code",
   "execution_count": 36,
   "metadata": {},
   "outputs": [],
   "source": [
    "##修改了神經層數、個數及lr\n",
    "model = Sequential()\n",
    "model.add(Dense(300, input_dim=784, activation='relu'))\n",
    "model.add(Dense(211, activation='relu'))\n",
    "model.add(Dense(112, activation='relu'))\n",
    "model.add(Dense(10, activation='softmax'))\n",
    "model.compile(loss='mse', optimizer=SGD(lr=0.002), metrics=['accuracy'])"
   ]
  },
  {
   "cell_type": "code",
   "execution_count": 37,
   "metadata": {},
   "outputs": [
    {
     "name": "stdout",
     "output_type": "stream",
     "text": [
      "Model: \"sequential_2\"\n",
      "_________________________________________________________________\n",
      "Layer (type)                 Output Shape              Param #   \n",
      "=================================================================\n",
      "dense_8 (Dense)              (None, 300)               235500    \n",
      "_________________________________________________________________\n",
      "dense_9 (Dense)              (None, 211)               63511     \n",
      "_________________________________________________________________\n",
      "dense_10 (Dense)             (None, 112)               23744     \n",
      "_________________________________________________________________\n",
      "dense_11 (Dense)             (None, 10)                1130      \n",
      "=================================================================\n",
      "Total params: 323,885\n",
      "Trainable params: 323,885\n",
      "Non-trainable params: 0\n",
      "_________________________________________________________________\n"
     ]
    }
   ],
   "source": [
    "#觀看結構\n",
    "model.summary()"
   ]
  },
  {
   "cell_type": "code",
   "execution_count": 39,
   "metadata": {
    "scrolled": true
   },
   "outputs": [
    {
     "name": "stdout",
     "output_type": "stream",
     "text": [
      "Train on 60000 samples\n",
      "Epoch 1/100\n",
      "60000/60000 [==============================] - 3s 56us/sample - loss: 0.0889 - accuracy: 0.2098\n",
      "Epoch 2/100\n",
      "60000/60000 [==============================] - 3s 54us/sample - loss: 0.0883 - accuracy: 0.2462\n",
      "Epoch 3/100\n",
      "60000/60000 [==============================] - 3s 53us/sample - loss: 0.0876 - accuracy: 0.2677\n",
      "Epoch 4/100\n",
      "60000/60000 [==============================] - 3s 56us/sample - loss: 0.0870 - accuracy: 0.2828\n",
      "Epoch 5/100\n",
      "60000/60000 [==============================] - 3s 55us/sample - loss: 0.0863 - accuracy: 0.2943\n",
      "Epoch 6/100\n",
      "60000/60000 [==============================] - 3s 56us/sample - loss: 0.0856 - accuracy: 0.3051\n",
      "Epoch 7/100\n",
      "60000/60000 [==============================] - 4s 60us/sample - loss: 0.0848 - accuracy: 0.3158\n",
      "Epoch 8/100\n",
      "60000/60000 [==============================] - 3s 50us/sample - loss: 0.0840 - accuracy: 0.3271\n",
      "Epoch 9/100\n",
      "60000/60000 [==============================] - 3s 58us/sample - loss: 0.0832 - accuracy: 0.3406\n",
      "Epoch 10/100\n",
      "60000/60000 [==============================] - 4s 59us/sample - loss: 0.0824 - accuracy: 0.3567\n",
      "Epoch 11/100\n",
      "60000/60000 [==============================] - 4s 65us/sample - loss: 0.0815 - accuracy: 0.3761\n",
      "Epoch 12/100\n",
      "60000/60000 [==============================] - 3s 57us/sample - loss: 0.0806 - accuracy: 0.3986\n",
      "Epoch 13/100\n",
      "60000/60000 [==============================] - 3s 56us/sample - loss: 0.0797 - accuracy: 0.4245\n",
      "Epoch 14/100\n",
      "60000/60000 [==============================] - 3s 56us/sample - loss: 0.0787 - accuracy: 0.4516\n",
      "Epoch 15/100\n",
      "60000/60000 [==============================] - 3s 54us/sample - loss: 0.0777 - accuracy: 0.4803\n",
      "Epoch 16/100\n",
      "60000/60000 [==============================] - 3s 51us/sample - loss: 0.0766 - accuracy: 0.5057\n",
      "Epoch 17/100\n",
      "60000/60000 [==============================] - 3s 51us/sample - loss: 0.0755 - accuracy: 0.5285\n",
      "Epoch 18/100\n",
      "60000/60000 [==============================] - 4s 64us/sample - loss: 0.0743 - accuracy: 0.5477\n",
      "Epoch 19/100\n",
      "60000/60000 [==============================] - 3s 55us/sample - loss: 0.0730 - accuracy: 0.5655\n",
      "Epoch 20/100\n",
      "60000/60000 [==============================] - 3s 55us/sample - loss: 0.0717 - accuracy: 0.5783\n",
      "Epoch 21/100\n",
      "60000/60000 [==============================] - 3s 54us/sample - loss: 0.0704 - accuracy: 0.5874\n",
      "Epoch 22/100\n",
      "60000/60000 [==============================] - 3s 55us/sample - loss: 0.0690 - accuracy: 0.5935\n",
      "Epoch 23/100\n",
      "60000/60000 [==============================] - 3s 55us/sample - loss: 0.0676 - accuracy: 0.5971\n",
      "Epoch 24/100\n",
      "60000/60000 [==============================] - 3s 54us/sample - loss: 0.0662 - accuracy: 0.6005\n",
      "Epoch 25/100\n",
      "60000/60000 [==============================] - 3s 54us/sample - loss: 0.0649 - accuracy: 0.6043\n",
      "Epoch 26/100\n",
      "60000/60000 [==============================] - 3s 54us/sample - loss: 0.0635 - accuracy: 0.6084\n",
      "Epoch 27/100\n",
      "60000/60000 [==============================] - 3s 54us/sample - loss: 0.0622 - accuracy: 0.6129\n",
      "Epoch 28/100\n",
      "60000/60000 [==============================] - 3s 55us/sample - loss: 0.0610 - accuracy: 0.6177\n",
      "Epoch 29/100\n",
      "60000/60000 [==============================] - 3s 54us/sample - loss: 0.0598 - accuracy: 0.6219\n",
      "Epoch 30/100\n",
      "60000/60000 [==============================] - 3s 55us/sample - loss: 0.0586 - accuracy: 0.6270\n",
      "Epoch 31/100\n",
      "60000/60000 [==============================] - 3s 55us/sample - loss: 0.0576 - accuracy: 0.6336\n",
      "Epoch 32/100\n",
      "60000/60000 [==============================] - 3s 55us/sample - loss: 0.0566 - accuracy: 0.6385\n",
      "Epoch 33/100\n",
      "60000/60000 [==============================] - 3s 55us/sample - loss: 0.0556 - accuracy: 0.6436\n",
      "Epoch 34/100\n",
      "60000/60000 [==============================] - 3s 55us/sample - loss: 0.0547 - accuracy: 0.6464\n",
      "Epoch 35/100\n",
      "60000/60000 [==============================] - 3s 54us/sample - loss: 0.0539 - accuracy: 0.6502\n",
      "Epoch 36/100\n",
      "60000/60000 [==============================] - 4s 63us/sample - loss: 0.0531 - accuracy: 0.6522\n",
      "Epoch 37/100\n",
      "60000/60000 [==============================] - 3s 55us/sample - loss: 0.0523 - accuracy: 0.6545\n",
      "Epoch 38/100\n",
      "60000/60000 [==============================] - 3s 55us/sample - loss: 0.0516 - accuracy: 0.6567\n",
      "Epoch 39/100\n",
      "60000/60000 [==============================] - 3s 56us/sample - loss: 0.0510 - accuracy: 0.6588\n",
      "Epoch 40/100\n",
      "60000/60000 [==============================] - 3s 55us/sample - loss: 0.0503 - accuracy: 0.6608\n",
      "Epoch 41/100\n",
      "60000/60000 [==============================] - 3s 55us/sample - loss: 0.0497 - accuracy: 0.6624\n",
      "Epoch 42/100\n",
      "60000/60000 [==============================] - 3s 55us/sample - loss: 0.0492 - accuracy: 0.6636\n",
      "Epoch 43/100\n",
      "60000/60000 [==============================] - 3s 55us/sample - loss: 0.0486 - accuracy: 0.6651\n",
      "Epoch 44/100\n",
      "60000/60000 [==============================] - 3s 56us/sample - loss: 0.0481 - accuracy: 0.6663\n",
      "Epoch 45/100\n",
      "60000/60000 [==============================] - 3s 55us/sample - loss: 0.0476 - accuracy: 0.6678\n",
      "Epoch 46/100\n",
      "60000/60000 [==============================] - 3s 55us/sample - loss: 0.0472 - accuracy: 0.6689\n",
      "Epoch 47/100\n",
      "60000/60000 [==============================] - 3s 56us/sample - loss: 0.0467 - accuracy: 0.6707\n",
      "Epoch 48/100\n",
      "60000/60000 [==============================] - 3s 57us/sample - loss: 0.0463 - accuracy: 0.6726\n",
      "Epoch 49/100\n",
      "60000/60000 [==============================] - 3s 55us/sample - loss: 0.0459 - accuracy: 0.6743\n",
      "Epoch 50/100\n",
      "60000/60000 [==============================] - 4s 63us/sample - loss: 0.0455 - accuracy: 0.6773\n",
      "Epoch 51/100\n",
      "60000/60000 [==============================] - 4s 59us/sample - loss: 0.0451 - accuracy: 0.6796\n",
      "Epoch 52/100\n",
      "60000/60000 [==============================] - 3s 53us/sample - loss: 0.0448 - accuracy: 0.6823\n",
      "Epoch 53/100\n",
      "60000/60000 [==============================] - 4s 60us/sample - loss: 0.0444 - accuracy: 0.6851\n",
      "Epoch 54/100\n",
      "60000/60000 [==============================] - 4s 74us/sample - loss: 0.0441 - accuracy: 0.6884\n",
      "Epoch 55/100\n",
      "60000/60000 [==============================] - 3s 53us/sample - loss: 0.0437 - accuracy: 0.6906\n",
      "Epoch 56/100\n",
      "60000/60000 [==============================] - 3s 56us/sample - loss: 0.0434 - accuracy: 0.6947\n",
      "Epoch 57/100\n",
      "60000/60000 [==============================] - 3s 57us/sample - loss: 0.0431 - accuracy: 0.6967\n",
      "Epoch 58/100\n",
      "60000/60000 [==============================] - 3s 57us/sample - loss: 0.0428 - accuracy: 0.7003\n",
      "Epoch 59/100\n",
      "60000/60000 [==============================] - 4s 60us/sample - loss: 0.0425 - accuracy: 0.7036\n",
      "Epoch 60/100\n",
      "60000/60000 [==============================] - 3s 54us/sample - loss: 0.0423 - accuracy: 0.7067\n",
      "Epoch 61/100\n",
      "60000/60000 [==============================] - 3s 54us/sample - loss: 0.0420 - accuracy: 0.7101\n",
      "Epoch 62/100\n",
      "60000/60000 [==============================] - 3s 57us/sample - loss: 0.0417 - accuracy: 0.7137\n",
      "Epoch 63/100\n",
      "60000/60000 [==============================] - 3s 54us/sample - loss: 0.0415 - accuracy: 0.7172\n",
      "Epoch 64/100\n",
      "60000/60000 [==============================] - 3s 52us/sample - loss: 0.0412 - accuracy: 0.7200\n",
      "Epoch 65/100\n",
      "60000/60000 [==============================] - 3s 57us/sample - loss: 0.0410 - accuracy: 0.7233\n",
      "Epoch 66/100\n",
      "60000/60000 [==============================] - 3s 56us/sample - loss: 0.0407 - accuracy: 0.7267\n",
      "Epoch 67/100\n",
      "60000/60000 [==============================] - 4s 58us/sample - loss: 0.0405 - accuracy: 0.7293\n",
      "Epoch 68/100\n",
      "60000/60000 [==============================] - 4s 60us/sample - loss: 0.0402 - accuracy: 0.7324\n",
      "Epoch 69/100\n",
      "60000/60000 [==============================] - 3s 55us/sample - loss: 0.0400 - accuracy: 0.7341\n",
      "Epoch 70/100\n",
      "60000/60000 [==============================] - 3s 53us/sample - loss: 0.0398 - accuracy: 0.7375\n",
      "Epoch 71/100\n",
      "60000/60000 [==============================] - 4s 64us/sample - loss: 0.0395 - accuracy: 0.7401\n",
      "Epoch 72/100\n",
      "60000/60000 [==============================] - 3s 55us/sample - loss: 0.0393 - accuracy: 0.7423\n",
      "Epoch 73/100\n",
      "60000/60000 [==============================] - 3s 56us/sample - loss: 0.0391 - accuracy: 0.7452\n",
      "Epoch 74/100\n",
      "60000/60000 [==============================] - 3s 55us/sample - loss: 0.0389 - accuracy: 0.7470\n",
      "Epoch 75/100\n",
      "60000/60000 [==============================] - 3s 56us/sample - loss: 0.0387 - accuracy: 0.7494\n",
      "Epoch 76/100\n",
      "60000/60000 [==============================] - 3s 52us/sample - loss: 0.0385 - accuracy: 0.7516\n",
      "Epoch 77/100\n",
      "60000/60000 [==============================] - 3s 52us/sample - loss: 0.0382 - accuracy: 0.7540\n",
      "Epoch 78/100\n",
      "60000/60000 [==============================] - 3s 52us/sample - loss: 0.0380 - accuracy: 0.7556\n",
      "Epoch 79/100\n",
      "60000/60000 [==============================] - 3s 53us/sample - loss: 0.0378 - accuracy: 0.7576\n",
      "Epoch 80/100\n",
      "60000/60000 [==============================] - 3s 52us/sample - loss: 0.0376 - accuracy: 0.7598\n",
      "Epoch 81/100\n",
      "60000/60000 [==============================] - 3s 53us/sample - loss: 0.0374 - accuracy: 0.7612\n",
      "Epoch 82/100\n",
      "60000/60000 [==============================] - 3s 52us/sample - loss: 0.0372 - accuracy: 0.7629\n",
      "Epoch 83/100\n",
      "60000/60000 [==============================] - 3s 55us/sample - loss: 0.0370 - accuracy: 0.7651\n",
      "Epoch 84/100\n",
      "60000/60000 [==============================] - 4s 59us/sample - loss: 0.0369 - accuracy: 0.7662\n",
      "Epoch 85/100\n",
      "60000/60000 [==============================] - 3s 56us/sample - loss: 0.0367 - accuracy: 0.7689\n",
      "Epoch 86/100\n",
      "60000/60000 [==============================] - 3s 55us/sample - loss: 0.0365 - accuracy: 0.7695\n",
      "Epoch 87/100\n",
      "60000/60000 [==============================] - 3s 55us/sample - loss: 0.0363 - accuracy: 0.7718\n",
      "Epoch 88/100\n",
      "60000/60000 [==============================] - 4s 60us/sample - loss: 0.0361 - accuracy: 0.7732\n",
      "Epoch 89/100\n",
      "60000/60000 [==============================] - 4s 64us/sample - loss: 0.0359 - accuracy: 0.7746\n",
      "Epoch 90/100\n",
      "60000/60000 [==============================] - 3s 57us/sample - loss: 0.0358 - accuracy: 0.7755\n",
      "Epoch 91/100\n",
      "60000/60000 [==============================] - 3s 58us/sample - loss: 0.0356 - accuracy: 0.7771\n",
      "Epoch 92/100\n",
      "60000/60000 [==============================] - 3s 53us/sample - loss: 0.0354 - accuracy: 0.7785\n",
      "Epoch 93/100\n",
      "60000/60000 [==============================] - 3s 54us/sample - loss: 0.0352 - accuracy: 0.7796\n",
      "Epoch 94/100\n",
      "60000/60000 [==============================] - 3s 55us/sample - loss: 0.0351 - accuracy: 0.7811\n",
      "Epoch 95/100\n",
      "60000/60000 [==============================] - 3s 53us/sample - loss: 0.0349 - accuracy: 0.7820\n",
      "Epoch 96/100\n",
      "60000/60000 [==============================] - 3s 58us/sample - loss: 0.0347 - accuracy: 0.7831\n",
      "Epoch 97/100\n",
      "60000/60000 [==============================] - 4s 59us/sample - loss: 0.0346 - accuracy: 0.7839\n",
      "Epoch 98/100\n",
      "60000/60000 [==============================] - 3s 55us/sample - loss: 0.0344 - accuracy: 0.7853\n",
      "Epoch 99/100\n",
      "60000/60000 [==============================] - 3s 54us/sample - loss: 0.0343 - accuracy: 0.7860\n",
      "Epoch 100/100\n",
      "60000/60000 [==============================] - 3s 53us/sample - loss: 0.0341 - accuracy: 0.7876\n"
     ]
    },
    {
     "data": {
      "text/plain": [
       "<tensorflow.python.keras.callbacks.History at 0x2611043e648>"
      ]
     },
     "execution_count": 39,
     "metadata": {},
     "output_type": "execute_result"
    }
   ],
   "source": [
    "#訓練\n",
    "model.fit(x_train, y_train, batch_size=100, epochs=100)"
   ]
  },
  {
   "cell_type": "code",
   "execution_count": 40,
   "metadata": {},
   "outputs": [
    {
     "name": "stdout",
     "output_type": "stream",
     "text": [
      "Train on 60000 samples\n",
      "Epoch 1/50\n",
      "60000/60000 [==============================] - 4s 59us/sample - loss: 0.0340 - accuracy: 0.7884\n",
      "Epoch 2/50\n",
      "60000/60000 [==============================] - 4s 60us/sample - loss: 0.0338 - accuracy: 0.7897\n",
      "Epoch 3/50\n",
      "60000/60000 [==============================] - 4s 61us/sample - loss: 0.0337 - accuracy: 0.7903\n",
      "Epoch 4/50\n",
      "60000/60000 [==============================] - 4s 61us/sample - loss: 0.0335 - accuracy: 0.7915\n",
      "Epoch 5/50\n",
      "60000/60000 [==============================] - 5s 80us/sample - loss: 0.0334 - accuracy: 0.7926s - loss: 0.033\n",
      "Epoch 6/50\n",
      "60000/60000 [==============================] - 4s 70us/sample - loss: 0.0332 - accuracy: 0.7931\n",
      "Epoch 7/50\n",
      "60000/60000 [==============================] - 4s 71us/sample - loss: 0.0331 - accuracy: 0.7944\n",
      "Epoch 8/50\n",
      "60000/60000 [==============================] - 4s 64us/sample - loss: 0.0329 - accuracy: 0.7952\n",
      "Epoch 9/50\n",
      "60000/60000 [==============================] - 4s 59us/sample - loss: 0.0328 - accuracy: 0.7958\n",
      "Epoch 10/50\n",
      "60000/60000 [==============================] - 4s 67us/sample - loss: 0.0327 - accuracy: 0.7963\n",
      "Epoch 11/50\n",
      "60000/60000 [==============================] - 3s 57us/sample - loss: 0.0325 - accuracy: 0.7973\n",
      "Epoch 12/50\n",
      "60000/60000 [==============================] - 3s 58us/sample - loss: 0.0324 - accuracy: 0.7976\n",
      "Epoch 13/50\n",
      "60000/60000 [==============================] - 4s 69us/sample - loss: 0.0323 - accuracy: 0.7987\n",
      "Epoch 14/50\n",
      "60000/60000 [==============================] - 4s 61us/sample - loss: 0.0322 - accuracy: 0.7993\n",
      "Epoch 15/50\n",
      "60000/60000 [==============================] - 4s 71us/sample - loss: 0.0320 - accuracy: 0.8006s - l\n",
      "Epoch 16/50\n",
      "60000/60000 [==============================] - 4s 59us/sample - loss: 0.0319 - accuracy: 0.8013\n",
      "Epoch 17/50\n",
      "60000/60000 [==============================] - 4s 64us/sample - loss: 0.0318 - accuracy: 0.8019\n",
      "Epoch 18/50\n",
      "60000/60000 [==============================] - 4s 67us/sample - loss: 0.0317 - accuracy: 0.8023\n",
      "Epoch 19/50\n",
      "60000/60000 [==============================] - 4s 59us/sample - loss: 0.0316 - accuracy: 0.8027\n",
      "Epoch 20/50\n",
      "60000/60000 [==============================] - 4s 74us/sample - loss: 0.0314 - accuracy: 0.8036\n",
      "Epoch 21/50\n",
      "60000/60000 [==============================] - 5s 79us/sample - loss: 0.0313 - accuracy: 0.8046\n",
      "Epoch 22/50\n",
      "60000/60000 [==============================] - 4s 72us/sample - loss: 0.0312 - accuracy: 0.8049\n",
      "Epoch 23/50\n",
      "60000/60000 [==============================] - 4s 69us/sample - loss: 0.0311 - accuracy: 0.8054\n",
      "Epoch 24/50\n",
      "60000/60000 [==============================] - 4s 74us/sample - loss: 0.0310 - accuracy: 0.8055\n",
      "Epoch 25/50\n",
      "60000/60000 [==============================] - 4s 64us/sample - loss: 0.0309 - accuracy: 0.8063\n",
      "Epoch 26/50\n",
      "60000/60000 [==============================] - 4s 60us/sample - loss: 0.0308 - accuracy: 0.8072\n",
      "Epoch 27/50\n",
      "60000/60000 [==============================] - 4s 60us/sample - loss: 0.0307 - accuracy: 0.8074\n",
      "Epoch 28/50\n",
      "60000/60000 [==============================] - 4s 61us/sample - loss: 0.0306 - accuracy: 0.8078\n",
      "Epoch 29/50\n",
      "60000/60000 [==============================] - 3s 52us/sample - loss: 0.0305 - accuracy: 0.8080\n",
      "Epoch 30/50\n",
      "60000/60000 [==============================] - 4s 65us/sample - loss: 0.0304 - accuracy: 0.8088\n",
      "Epoch 31/50\n",
      "60000/60000 [==============================] - 3s 56us/sample - loss: 0.0303 - accuracy: 0.8092\n",
      "Epoch 32/50\n",
      "60000/60000 [==============================] - 3s 55us/sample - loss: 0.0302 - accuracy: 0.8098\n",
      "Epoch 33/50\n",
      "60000/60000 [==============================] - 3s 52us/sample - loss: 0.0301 - accuracy: 0.8100\n",
      "Epoch 34/50\n",
      "60000/60000 [==============================] - 4s 62us/sample - loss: 0.0300 - accuracy: 0.8109\n",
      "Epoch 35/50\n",
      "60000/60000 [==============================] - 4s 59us/sample - loss: 0.0299 - accuracy: 0.8107\n",
      "Epoch 36/50\n",
      "60000/60000 [==============================] - 4s 63us/sample - loss: 0.0298 - accuracy: 0.8114\n",
      "Epoch 37/50\n",
      "60000/60000 [==============================] - 3s 56us/sample - loss: 0.0298 - accuracy: 0.8117\n",
      "Epoch 38/50\n",
      "60000/60000 [==============================] - 3s 54us/sample - loss: 0.0297 - accuracy: 0.8120\n",
      "Epoch 39/50\n",
      "60000/60000 [==============================] - 4s 67us/sample - loss: 0.0296 - accuracy: 0.8126\n",
      "Epoch 40/50\n",
      "60000/60000 [==============================] - 3s 58us/sample - loss: 0.0295 - accuracy: 0.8131\n",
      "Epoch 41/50\n",
      "60000/60000 [==============================] - 3s 51us/sample - loss: 0.0294 - accuracy: 0.8131\n",
      "Epoch 42/50\n",
      "60000/60000 [==============================] - 3s 55us/sample - loss: 0.0293 - accuracy: 0.8137\n",
      "Epoch 43/50\n",
      "60000/60000 [==============================] - 3s 51us/sample - loss: 0.0293 - accuracy: 0.8142\n",
      "Epoch 44/50\n",
      "60000/60000 [==============================] - 3s 53us/sample - loss: 0.0292 - accuracy: 0.8145\n",
      "Epoch 45/50\n",
      "60000/60000 [==============================] - 3s 52us/sample - loss: 0.0291 - accuracy: 0.8149\n",
      "Epoch 46/50\n",
      "60000/60000 [==============================] - 3s 51us/sample - loss: 0.0290 - accuracy: 0.8155\n",
      "Epoch 47/50\n",
      "60000/60000 [==============================] - 3s 51us/sample - loss: 0.0290 - accuracy: 0.8154\n",
      "Epoch 48/50\n",
      "60000/60000 [==============================] - 3s 51us/sample - loss: 0.0289 - accuracy: 0.8160\n",
      "Epoch 49/50\n",
      "60000/60000 [==============================] - 3s 52us/sample - loss: 0.0288 - accuracy: 0.8161\n",
      "Epoch 50/50\n",
      "60000/60000 [==============================] - 3s 52us/sample - loss: 0.0288 - accuracy: 0.8166\n"
     ]
    },
    {
     "data": {
      "text/plain": [
       "<tensorflow.python.keras.callbacks.History at 0x2612b178088>"
      ]
     },
     "execution_count": 40,
     "metadata": {},
     "output_type": "execute_result"
    }
   ],
   "source": [
    "#正確率有點低，繼續訓練\n",
    "model.fit(x_train, y_train, batch_size=100, epochs=50)"
   ]
  },
  {
   "cell_type": "code",
   "execution_count": 41,
   "metadata": {},
   "outputs": [],
   "source": [
    "#測試結果\n",
    "result = model.predict_classes(x_test)"
   ]
  },
  {
   "cell_type": "code",
   "execution_count": 42,
   "metadata": {},
   "outputs": [
    {
     "name": "stdout",
     "output_type": "stream",
     "text": [
      "神經網路預測是: Dress\n"
     ]
    },
    {
     "data": {
      "text/plain": [
       "<matplotlib.image.AxesImage at 0x2612b1808c8>"
      ]
     },
     "execution_count": 42,
     "metadata": {},
     "output_type": "execute_result"
    },
    {
     "data": {
      "image/png": "[encoded data removed]",
      "text/plain": [
       "<Figure size 432x288 with 1 Axes>"
      ]
     },
     "metadata": {
      "needs_background": "light"
     },
     "output_type": "display_data"
    }
   ],
   "source": [
    "n = 9211\n",
    "print('神經網路預測是:', class_names[result[n]])\n",
    "plt.imshow(x_test[n].reshape(28,28), cmap='Blues')"
   ]
  },
  {
   "cell_type": "code",
   "execution_count": null,
   "metadata": {},
   "outputs": [],
   "source": []
  }
 ],
 "metadata": {
  "kernelspec": {
   "display_name": "Python 3",
   "language": "python",
   "name": "python3"
  },
  "language_info": {
   "codemirror_mode": {
    "name": "ipython",
    "version": 3
   },
   "file_extension": ".py",
   "mimetype": "text/x-python",
   "name": "python",
   "nbconvert_exporter": "python",
   "pygments_lexer": "ipython3",
   "version": "3.7.4"
  }
 },
 "nbformat": 4,
 "nbformat_minor": 2
}
