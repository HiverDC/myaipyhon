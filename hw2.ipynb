{
 "cells": [
  {
   "cell_type": "code",
   "execution_count": null,
   "metadata": {},
   "outputs": [],
   "source": [
    "#隨機密碼產生器"
   ]
  },
  {
   "cell_type": "code",
   "execution_count": 1,
   "metadata": {},
   "outputs": [
    {
     "name": "stdout",
     "output_type": "stream",
     "text": [
      "是否包含大小寫,請輸入Y or N:N\n",
      "是否包含符號,請輸入Y or N:Y\n",
      "qm6|_gu71v&\\lt0\n"
     ]
    }
   ],
   "source": [
    "import random\n",
    "import string\n",
    "\n",
    "words1 = input(\"是否包含大小寫,請輸入Y or N:\")\n",
    "text1 = str(words1)\n",
    "\n",
    "words2 = input(\"是否包含符號,請輸入Y or N:\")\n",
    "text2 =str(words2)\n",
    "\n",
    "if text1 == 'Y' and text2 == 'Y':\n",
    "    seed = \"1234567890abcdefghijklmnopqrstuvwxyzABCDEFGHIJKLMNOPQRSTUVWXYZ!@#$%^&*_+=-\\/|<>?\"\n",
    "    sa = []\n",
    "    for i in range(15):\n",
    "     sa.append(random.choice(seed))\n",
    "    salt = ''.join(sa)\n",
    "    print(salt)\n",
    "elif text1 == 'Y' and text2 == 'N':\n",
    "    seed1 = \"1234567890abcdefghijklmnopqrstuvwxyzABCDEFGHIJKLMNOPQRSTUVWXYZ\"\n",
    "    sa = []\n",
    "    for i in range(15):\n",
    "     sa.append(random.choice(seed1))\n",
    "    salt = ''.join(sa)\n",
    "    print(salt)\n",
    "elif text1 == 'N' and text2 == 'N':\n",
    "    seed2 = \"1234567890abcdefghijklmnopqrstuvwxyz\"\n",
    "    sa = []\n",
    "    for i in range(15):\n",
    "         sa.append(random.choice(seed2))\n",
    "    salt = ''.join(sa)\n",
    "    print(salt)\n",
    "else:\n",
    "    seed3 = \"1234567890abcdefghijklmnopqrstuvwxyz!@#$%^&*_+=-\\/|<>?\"\n",
    "    sa = []\n",
    "    for i in range(15):\n",
    "     sa.append(random.choice(seed3))\n",
    "    salt = ''.join(sa)\n",
    "    print(salt)"
   ]
  },
  {
   "cell_type": "code",
   "execution_count": null,
   "metadata": {},
   "outputs": [],
   "source": []
  }
 ],
 "metadata": {
  "kernelspec": {
   "display_name": "Python 3",
   "language": "python",
   "name": "python3"
  },
  "language_info": {
   "codemirror_mode": {
    "name": "ipython",
    "version": 3
   },
   "file_extension": ".py",
   "mimetype": "text/x-python",
   "name": "python",
   "nbconvert_exporter": "python",
   "pygments_lexer": "ipython3",
   "version": "3.7.4"
  }
 },
 "nbformat": 4,
 "nbformat_minor": 2
}
