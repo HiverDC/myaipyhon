{
 "cells": [
  {
   "cell_type": "code",
   "execution_count": null,
   "metadata": {},
   "outputs": [
    {
     "name": "stdout",
     "output_type": "stream",
     "text": [
      "請輸入0到100之間的整數50\n"
     ]
    }
   ],
   "source": [
    "import random\n",
    "import string\n",
    "\n",
    "x = random.randint(0,100)\n",
    "rmin = 0\n",
    "rmax = 100\n",
    "\n",
    "\n",
    "while True:\n",
    "    guess = input(\"請輸入\"+str(rmin)+\"到\"+str(rmax)+\"之間的整數:\")\n",
    "    try:\n",
    "        guess=int(guess)\n",
    "    except Valuerror:\n",
    "        print(\"請輸入數字\")\n",
    "        continue\n",
    "    if guess>=rmax or guess <= rmin:\n",
    "        print(\"請輸入\"+str(rmin)+\"到\"+str(rmax)+\"之間的整數:\")\n",
    "        continue\n",
    "    if x == guess:  \n",
    "        print(\"答對了\")\n",
    "        break\n",
    "        \n",
    "    elif guess<x:\n",
    "        rmin = guess\n",
    "       \n",
    "    else:\n",
    "        guess>x\n",
    "        rmax = guess"
   ]
  },
  {
   "cell_type": "code",
   "execution_count": null,
   "metadata": {},
   "outputs": [],
   "source": []
  }
 ],
 "metadata": {
  "kernelspec": {
   "display_name": "Python 3",
   "language": "python",
   "name": "python3"
  }
 },
 "nbformat": 4,
 "nbformat_minor": 2
}
